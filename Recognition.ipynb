{
 "cells": [
  {
   "cell_type": "code",
   "execution_count": 2,
   "id": "f50b6291",
   "metadata": {},
   "outputs": [],
   "source": [
    "import cv2\n",
    "import os\n",
    "import numpy as np\n",
    "import matplotlib.pyplot as plt\n",
    "from sklearn.metrics import accuracy_score, precision_recall_fscore_support, plot_roc_curve, confusion_matrix, precision_recall_curve\n",
    "from sklearn.model_selection import train_test_split\n",
    "import matplotlib.pyplot as plt\n",
    "from tensorflow.keras.models import Sequential\n",
    "from tensorflow.keras.layers import Conv2D, MaxPooling2D, Flatten, Dropout, Dense, Activation, MaxPool2D"
   ]
  },
  {
   "cell_type": "code",
   "execution_count": 3,
   "id": "08b67e2a",
   "metadata": {},
   "outputs": [],
   "source": [
    "X = []\n",
    "Y = []"
   ]
  },
  {
   "cell_type": "code",
   "execution_count": 4,
   "id": "e562d538",
   "metadata": {},
   "outputs": [],
   "source": [
    "for file in [file for file in os.listdir(\"cropped\")]:\n",
    "    image = cv2.imread(\"./cropped/\"+file)\n",
    "    grey = cv2.cvtColor(image, cv2.COLOR_BGR2GRAY)\n",
    "    resized_image = cv2.resize(image, (100,100), interpolation=cv2.INTER_AREA)\n",
    "    line = resized_image.reshape(-1)\n",
    "    \n",
    "    X.append(line)\n",
    "    filename = file.split('_')\n",
    "    Y.append(filename[0])"
   ]
  },
  {
   "cell_type": "code",
   "execution_count": 5,
   "id": "a25f65e0",
   "metadata": {},
   "outputs": [],
   "source": [
    "X_train, X_test, Y_train, Y_test = train_test_split(X, Y, test_size=0.3)"
   ]
  },
  {
   "cell_type": "code",
   "execution_count": 5,
   "id": "a999c08c",
   "metadata": {},
   "outputs": [
    {
     "name": "stdout",
     "output_type": "stream",
     "text": [
      "Model: Logistic Regression\n",
      "Accuracy:  0.8982188295165394\n",
      "Precision:  0.9047875904583221\n",
      "Recall:  0.9072167669728647\n",
      "F1-score:  0.8905477413547715\n",
      "Confusion Matrix: \n",
      " [[5 0 0 ... 0 0 0]\n",
      " [0 4 0 ... 0 0 0]\n",
      " [0 0 4 ... 0 0 0]\n",
      " ...\n",
      " [0 0 0 ... 1 0 0]\n",
      " [0 0 0 ... 0 4 0]\n",
      " [0 0 0 ... 0 0 5]]\n"
     ]
    },
    {
     "name": "stderr",
     "output_type": "stream",
     "text": [
      "C:\\ProgramData\\Anaconda3\\lib\\site-packages\\sklearn\\linear_model\\_logistic.py:763: ConvergenceWarning: lbfgs failed to converge (status=1):\n",
      "STOP: TOTAL NO. of ITERATIONS REACHED LIMIT.\n",
      "\n",
      "Increase the number of iterations (max_iter) or scale the data as shown in:\n",
      "    https://scikit-learn.org/stable/modules/preprocessing.html\n",
      "Please also refer to the documentation for alternative solver options:\n",
      "    https://scikit-learn.org/stable/modules/linear_model.html#logistic-regression\n",
      "  n_iter_i = _check_optimize_result(\n"
     ]
    }
   ],
   "source": [
    "from sklearn.linear_model import LogisticRegression\n",
    "model = LogisticRegression()\n",
    "model.fit(X_train, Y_train)\n",
    "Y_pred = model.predict(X_test)      \n",
    "\n",
    "accuracy = accuracy_score(Y_test, Y_pred)\n",
    "precision, recall, f1_score, _ = precision_recall_fscore_support(Y_test, Y_pred, average='macro')\n",
    "print(\"Model: Logistic Regression\")\n",
    "print(\"Accuracy: \", accuracy)\n",
    "print(\"Precision: \", precision)\n",
    "print(\"Recall: \", recall)\n",
    "print(\"F1-score: \", f1_score)\n",
    "\n",
    "matrix = confusion_matrix(Y_test, Y_pred)\n",
    "print(\"Confusion Matrix: \\n\",matrix)"
   ]
  },
  {
   "cell_type": "code",
   "execution_count": 6,
   "id": "0d09a23b",
   "metadata": {},
   "outputs": [
    {
     "name": "stdout",
     "output_type": "stream",
     "text": [
      "Model: SVC\n",
      "Accuracy:  0.9185750636132316\n",
      "Precision:  0.925246806039489\n",
      "Recall:  0.9347719353816917\n",
      "F1-score:  0.9195702734358102\n",
      "Confusion Matrix: \n",
      " [[6 0 0 ... 0 0 0]\n",
      " [0 3 1 ... 0 0 0]\n",
      " [0 0 4 ... 0 0 0]\n",
      " ...\n",
      " [0 0 0 ... 1 0 0]\n",
      " [0 0 0 ... 0 4 0]\n",
      " [0 0 0 ... 0 0 5]]\n"
     ]
    }
   ],
   "source": [
    "from sklearn.svm import SVC\n",
    "model = SVC(kernel='linear', degree=3, gamma='scale')\n",
    "model.fit(X_train, Y_train)\n",
    "Y_pred = model.predict(X_test)\n",
    "\n",
    "accuracy = accuracy_score(Y_test, Y_pred)\n",
    "precision, recall, f1_score, _ = precision_recall_fscore_support(Y_test, Y_pred, average='macro')\n",
    "print(\"Model: SVC\")\n",
    "print(\"Accuracy: \", accuracy)\n",
    "print(\"Precision: \", precision)\n",
    "print(\"Recall: \", recall)\n",
    "print(\"F1-score: \", f1_score)\n",
    "\n",
    "matrix = confusion_matrix(Y_test, Y_pred)\n",
    "print(\"Confusion Matrix: \\n\",matrix)"
   ]
  },
  {
   "cell_type": "code",
   "execution_count": 7,
   "id": "3acf0357",
   "metadata": {},
   "outputs": [
    {
     "name": "stdout",
     "output_type": "stream",
     "text": [
      "Model: Naive Bayes Classifier\n",
      "Accuracy:  0.7913486005089059\n",
      "Precision:  0.8474877426096938\n",
      "Recall:  0.8128083975644952\n",
      "F1-score:  0.8073142834322204\n",
      "Confusion Matrix: \n",
      " [[7 0 0 ... 0 0 0]\n",
      " [1 2 0 ... 0 0 0]\n",
      " [2 0 2 ... 0 0 0]\n",
      " ...\n",
      " [0 0 0 ... 1 0 0]\n",
      " [0 0 0 ... 0 4 0]\n",
      " [0 0 0 ... 0 0 5]]\n"
     ]
    },
    {
     "name": "stderr",
     "output_type": "stream",
     "text": [
      "C:\\ProgramData\\Anaconda3\\lib\\site-packages\\sklearn\\metrics\\_classification.py:1245: UndefinedMetricWarning: Precision and F-score are ill-defined and being set to 0.0 in labels with no predicted samples. Use `zero_division` parameter to control this behavior.\n",
      "  _warn_prf(average, modifier, msg_start, len(result))\n"
     ]
    }
   ],
   "source": [
    "from sklearn.naive_bayes import GaussianNB\n",
    "model = GaussianNB()\n",
    "model.fit(X_train, Y_train)\n",
    "Y_pred = model.predict(X_test)\n",
    "\n",
    "accuracy = accuracy_score(Y_test, Y_pred)\n",
    "precision, recall, f1_score, _ = precision_recall_fscore_support(Y_test, Y_pred, average='macro')\n",
    "print(\"Model: Naive Bayes Classifier\")\n",
    "print(\"Accuracy: \", accuracy)\n",
    "print(\"Precision: \", precision)\n",
    "print(\"Recall: \", recall)\n",
    "print(\"F1-score: \", f1_score)\n",
    "\n",
    "matrix = confusion_matrix(Y_test, Y_pred)\n",
    "print(\"Confusion Matrix: \\n\",matrix)"
   ]
  },
  {
   "cell_type": "code",
   "execution_count": 8,
   "id": "c375c41e",
   "metadata": {},
   "outputs": [
    {
     "name": "stdout",
     "output_type": "stream",
     "text": [
      "Model: k-Nearest Neighbours\n",
      "Accuracy:  0.8600508905852418\n",
      "Precision:  0.8639261145358704\n",
      "Recall:  0.8663155949741315\n",
      "F1-score:  0.8434897730827655\n",
      "Confusion Matrix: \n",
      " [[5 1 0 ... 0 0 0]\n",
      " [0 1 0 ... 0 0 0]\n",
      " [0 0 4 ... 0 0 0]\n",
      " ...\n",
      " [0 0 0 ... 1 0 0]\n",
      " [0 0 0 ... 0 4 0]\n",
      " [0 0 0 ... 0 0 5]]\n"
     ]
    },
    {
     "name": "stderr",
     "output_type": "stream",
     "text": [
      "C:\\ProgramData\\Anaconda3\\lib\\site-packages\\sklearn\\metrics\\_classification.py:1245: UndefinedMetricWarning: Precision and F-score are ill-defined and being set to 0.0 in labels with no predicted samples. Use `zero_division` parameter to control this behavior.\n",
      "  _warn_prf(average, modifier, msg_start, len(result))\n"
     ]
    }
   ],
   "source": [
    "from sklearn.neighbors import KNeighborsClassifier\n",
    "model = KNeighborsClassifier(n_neighbors=5, metric='minkowski', p=2)\n",
    "model.fit(X_train, Y_train)\n",
    "Y_pred = model.predict(X_test)\n",
    "\n",
    "accuracy = accuracy_score(Y_test, Y_pred)\n",
    "precision, recall, f1_score, _ = precision_recall_fscore_support(Y_test, Y_pred, average='macro')\n",
    "print(\"Model: k-Nearest Neighbours\")\n",
    "print(\"Accuracy: \", accuracy)\n",
    "print(\"Precision: \", precision)\n",
    "print(\"Recall: \", recall)\n",
    "print(\"F1-score: \", f1_score)\n",
    "\n",
    "matrix = confusion_matrix(Y_test, Y_pred)\n",
    "print(\"Confusion Matrix: \\n\",matrix)"
   ]
  },
  {
   "cell_type": "code",
   "execution_count": 9,
   "id": "2ff9a7ce",
   "metadata": {},
   "outputs": [
    {
     "name": "stdout",
     "output_type": "stream",
     "text": [
      "Model: Decision Tree\n",
      "Accuracy:  0.6819338422391857\n",
      "Precision:  0.67346528973035\n",
      "Recall:  0.6639419148455293\n",
      "F1-score:  0.6397121934683947\n",
      "Confusion Matrix: \n",
      " [[6 0 0 ... 0 0 0]\n",
      " [2 2 0 ... 0 0 0]\n",
      " [0 0 1 ... 0 0 0]\n",
      " ...\n",
      " [0 0 0 ... 0 0 0]\n",
      " [0 0 0 ... 0 3 1]\n",
      " [0 0 0 ... 0 0 3]]\n"
     ]
    },
    {
     "name": "stderr",
     "output_type": "stream",
     "text": [
      "C:\\ProgramData\\Anaconda3\\lib\\site-packages\\sklearn\\metrics\\_classification.py:1245: UndefinedMetricWarning: Precision and F-score are ill-defined and being set to 0.0 in labels with no predicted samples. Use `zero_division` parameter to control this behavior.\n",
      "  _warn_prf(average, modifier, msg_start, len(result))\n",
      "C:\\ProgramData\\Anaconda3\\lib\\site-packages\\sklearn\\metrics\\_classification.py:1245: UndefinedMetricWarning: Recall and F-score are ill-defined and being set to 0.0 in labels with no true samples. Use `zero_division` parameter to control this behavior.\n",
      "  _warn_prf(average, modifier, msg_start, len(result))\n"
     ]
    }
   ],
   "source": [
    "from sklearn.tree import DecisionTreeClassifier\n",
    "model = DecisionTreeClassifier(criterion='entropy', random_state=0)\n",
    "model.fit(X_train, Y_train)\n",
    "Y_pred = model.predict(X_test)\n",
    "\n",
    "accuracy = accuracy_score(Y_test, Y_pred)\n",
    "precision, recall, f1_score, _ = precision_recall_fscore_support(Y_test, Y_pred, average='macro')\n",
    "print(\"Model: Decision Tree\")\n",
    "print(\"Accuracy: \", accuracy)\n",
    "print(\"Precision: \", precision)\n",
    "print(\"Recall: \", recall)\n",
    "print(\"F1-score: \", f1_score)\n",
    "\n",
    "matrix = confusion_matrix(Y_test, Y_pred)\n",
    "print(\"Confusion Matrix: \\n\",matrix)"
   ]
  },
  {
   "cell_type": "code",
   "execution_count": 10,
   "id": "bb2acf71",
   "metadata": {},
   "outputs": [
    {
     "name": "stdout",
     "output_type": "stream",
     "text": [
      "Model: Random Forest\n",
      "Accuracy:  0.8931297709923665\n",
      "Precision:  0.8959010840108402\n",
      "Recall:  0.8967893217893218\n",
      "F1-score:  0.876754281420241\n",
      "Confusion Matrix: \n",
      " [[6 0 0 ... 0 0 0]\n",
      " [0 4 0 ... 0 0 0]\n",
      " [0 0 4 ... 0 0 0]\n",
      " ...\n",
      " [0 0 0 ... 1 0 0]\n",
      " [0 0 0 ... 0 4 0]\n",
      " [0 0 0 ... 0 0 5]]\n"
     ]
    }
   ],
   "source": [
    "from sklearn.ensemble import RandomForestClassifier\n",
    "model = RandomForestClassifier(max_depth=50, random_state=0)\n",
    "model.fit(X_train, Y_train)\n",
    "Y_pred = model.predict(X_test)\n",
    "\n",
    "accuracy = accuracy_score(Y_test, Y_pred)\n",
    "precision, recall, f1_score, _ = precision_recall_fscore_support(Y_test, Y_pred, average='macro')\n",
    "print(\"Model: Random Forest\")\n",
    "print(\"Accuracy: \", accuracy)\n",
    "print(\"Precision: \", precision)\n",
    "print(\"Recall: \", recall)\n",
    "print(\"F1-score: \", f1_score)\n",
    "\n",
    "matrix = confusion_matrix(Y_test, Y_pred)\n",
    "print(\"Confusion Matrix: \\n\",matrix)"
   ]
  },
  {
   "cell_type": "code",
   "execution_count": 11,
   "id": "0e1282be",
   "metadata": {},
   "outputs": [
    {
     "name": "stdout",
     "output_type": "stream",
     "text": [
      "Model: Bagging\n",
      "Accuracy:  0.8778625954198473\n",
      "Precision:  0.8823751451800234\n",
      "Recall:  0.8834239608629854\n",
      "F1-score:  0.8630190070668058\n",
      "Confusion Matrix: \n",
      " [[6 0 0 ... 0 0 0]\n",
      " [0 3 0 ... 0 0 0]\n",
      " [0 0 4 ... 0 0 0]\n",
      " ...\n",
      " [0 0 0 ... 1 0 0]\n",
      " [0 0 0 ... 0 4 0]\n",
      " [0 0 0 ... 0 0 5]]\n"
     ]
    },
    {
     "name": "stderr",
     "output_type": "stream",
     "text": [
      "C:\\ProgramData\\Anaconda3\\lib\\site-packages\\sklearn\\metrics\\_classification.py:1245: UndefinedMetricWarning: Precision and F-score are ill-defined and being set to 0.0 in labels with no predicted samples. Use `zero_division` parameter to control this behavior.\n",
      "  _warn_prf(average, modifier, msg_start, len(result))\n"
     ]
    }
   ],
   "source": [
    "from sklearn.ensemble import BaggingClassifier\n",
    "model = BaggingClassifier(base_estimator=SVC(), n_estimators=10, random_state=0)\n",
    "model.fit(X_train, Y_train)\n",
    "Y_pred = model.predict(X_test)\n",
    "\n",
    "accuracy = accuracy_score(Y_test, Y_pred)\n",
    "precision, recall, f1_score, _ = precision_recall_fscore_support(Y_test, Y_pred, average='macro')\n",
    "print(\"Model: Bagging\")\n",
    "print(\"Accuracy: \", accuracy)\n",
    "print(\"Precision: \", precision)\n",
    "print(\"Recall: \", recall)\n",
    "print(\"F1-score: \", f1_score)\n",
    "\n",
    "matrix = confusion_matrix(Y_test, Y_pred)\n",
    "print(\"Confusion Matrix: \\n\",matrix)"
   ]
  },
  {
   "cell_type": "code",
   "execution_count": 12,
   "id": "03eacc3e",
   "metadata": {},
   "outputs": [
    {
     "name": "stdout",
     "output_type": "stream",
     "text": [
      "Model: Adaboost\n",
      "Accuracy:  0.06615776081424936\n",
      "Precision:  0.046665801764400626\n",
      "Recall:  0.0526079611445465\n",
      "F1-score:  0.04423703856488882\n",
      "Confusion Matrix: \n",
      " [[0 0 0 ... 0 0 0]\n",
      " [0 0 0 ... 0 0 0]\n",
      " [0 0 0 ... 0 0 0]\n",
      " ...\n",
      " [0 0 0 ... 0 0 0]\n",
      " [0 0 0 ... 0 0 0]\n",
      " [0 0 0 ... 0 0 0]]\n"
     ]
    },
    {
     "name": "stderr",
     "output_type": "stream",
     "text": [
      "C:\\ProgramData\\Anaconda3\\lib\\site-packages\\sklearn\\metrics\\_classification.py:1245: UndefinedMetricWarning: Precision and F-score are ill-defined and being set to 0.0 in labels with no predicted samples. Use `zero_division` parameter to control this behavior.\n",
      "  _warn_prf(average, modifier, msg_start, len(result))\n"
     ]
    }
   ],
   "source": [
    "from sklearn.ensemble import AdaBoostClassifier\n",
    "model = AdaBoostClassifier(n_estimators=10, random_state=0)\n",
    "model.fit(X_train, Y_train)\n",
    "Y_pred = model.predict(X_test)\n",
    "\n",
    "accuracy = accuracy_score(Y_test, Y_pred)\n",
    "precision, recall, f1_score, _ = precision_recall_fscore_support(Y_test, Y_pred, average='macro')\n",
    "print(\"Model: Adaboost\")\n",
    "print(\"Accuracy: \", accuracy)\n",
    "print(\"Precision: \", precision)\n",
    "print(\"Recall: \", recall)\n",
    "print(\"F1-score: \", f1_score)\n",
    "\n",
    "matrix = confusion_matrix(Y_test, Y_pred)\n",
    "print(\"Confusion Matrix: \\n\",matrix)"
   ]
  },
  {
   "cell_type": "code",
   "execution_count": 14,
   "id": "28ca1599",
   "metadata": {},
   "outputs": [
    {
     "ename": "KeyboardInterrupt",
     "evalue": "",
     "output_type": "error",
     "traceback": [
      "\u001b[1;31m---------------------------------------------------------------------------\u001b[0m",
      "\u001b[1;31mKeyboardInterrupt\u001b[0m                         Traceback (most recent call last)",
      "\u001b[1;32m<ipython-input-14-bbd0342047e7>\u001b[0m in \u001b[0;36m<module>\u001b[1;34m\u001b[0m\n\u001b[0;32m      1\u001b[0m \u001b[1;32mfrom\u001b[0m \u001b[0msklearn\u001b[0m\u001b[1;33m.\u001b[0m\u001b[0mensemble\u001b[0m \u001b[1;32mimport\u001b[0m \u001b[0mGradientBoostingClassifier\u001b[0m\u001b[1;33m\u001b[0m\u001b[1;33m\u001b[0m\u001b[0m\n\u001b[0;32m      2\u001b[0m \u001b[0mmodel\u001b[0m \u001b[1;33m=\u001b[0m \u001b[0mGradientBoostingClassifier\u001b[0m\u001b[1;33m(\u001b[0m\u001b[0mn_estimators\u001b[0m\u001b[1;33m=\u001b[0m\u001b[1;36m10\u001b[0m\u001b[1;33m,\u001b[0m \u001b[0mlearning_rate\u001b[0m\u001b[1;33m=\u001b[0m\u001b[1;36m1.0\u001b[0m\u001b[1;33m,\u001b[0m \u001b[0mmax_depth\u001b[0m\u001b[1;33m=\u001b[0m\u001b[1;36m1\u001b[0m\u001b[1;33m,\u001b[0m \u001b[0mrandom_state\u001b[0m\u001b[1;33m=\u001b[0m\u001b[1;36m0\u001b[0m\u001b[1;33m)\u001b[0m\u001b[1;33m\u001b[0m\u001b[1;33m\u001b[0m\u001b[0m\n\u001b[1;32m----> 3\u001b[1;33m \u001b[0mmodel\u001b[0m\u001b[1;33m.\u001b[0m\u001b[0mfit\u001b[0m\u001b[1;33m(\u001b[0m\u001b[0mX_train\u001b[0m\u001b[1;33m,\u001b[0m \u001b[0mY_train\u001b[0m\u001b[1;33m)\u001b[0m\u001b[1;33m\u001b[0m\u001b[1;33m\u001b[0m\u001b[0m\n\u001b[0m\u001b[0;32m      4\u001b[0m \u001b[0mY_pred\u001b[0m \u001b[1;33m=\u001b[0m \u001b[0mmodel\u001b[0m\u001b[1;33m.\u001b[0m\u001b[0mpredict\u001b[0m\u001b[1;33m(\u001b[0m\u001b[0mX_test\u001b[0m\u001b[1;33m)\u001b[0m\u001b[1;33m\u001b[0m\u001b[1;33m\u001b[0m\u001b[0m\n\u001b[0;32m      5\u001b[0m \u001b[1;33m\u001b[0m\u001b[0m\n",
      "\u001b[1;32mC:\\ProgramData\\Anaconda3\\lib\\site-packages\\sklearn\\ensemble\\_gb.py\u001b[0m in \u001b[0;36mfit\u001b[1;34m(self, X, y, sample_weight, monitor)\u001b[0m\n\u001b[0;32m    502\u001b[0m \u001b[1;33m\u001b[0m\u001b[0m\n\u001b[0;32m    503\u001b[0m         \u001b[1;31m# fit the boosting stages\u001b[0m\u001b[1;33m\u001b[0m\u001b[1;33m\u001b[0m\u001b[1;33m\u001b[0m\u001b[0m\n\u001b[1;32m--> 504\u001b[1;33m         n_stages = self._fit_stages(\n\u001b[0m\u001b[0;32m    505\u001b[0m             \u001b[0mX\u001b[0m\u001b[1;33m,\u001b[0m \u001b[0my\u001b[0m\u001b[1;33m,\u001b[0m \u001b[0mraw_predictions\u001b[0m\u001b[1;33m,\u001b[0m \u001b[0msample_weight\u001b[0m\u001b[1;33m,\u001b[0m \u001b[0mself\u001b[0m\u001b[1;33m.\u001b[0m\u001b[0m_rng\u001b[0m\u001b[1;33m,\u001b[0m \u001b[0mX_val\u001b[0m\u001b[1;33m,\u001b[0m \u001b[0my_val\u001b[0m\u001b[1;33m,\u001b[0m\u001b[1;33m\u001b[0m\u001b[1;33m\u001b[0m\u001b[0m\n\u001b[0;32m    506\u001b[0m             sample_weight_val, begin_at_stage, monitor)\n",
      "\u001b[1;32mC:\\ProgramData\\Anaconda3\\lib\\site-packages\\sklearn\\ensemble\\_gb.py\u001b[0m in \u001b[0;36m_fit_stages\u001b[1;34m(self, X, y, raw_predictions, sample_weight, random_state, X_val, y_val, sample_weight_val, begin_at_stage, monitor)\u001b[0m\n\u001b[0;32m    559\u001b[0m \u001b[1;33m\u001b[0m\u001b[0m\n\u001b[0;32m    560\u001b[0m             \u001b[1;31m# fit next stage of trees\u001b[0m\u001b[1;33m\u001b[0m\u001b[1;33m\u001b[0m\u001b[1;33m\u001b[0m\u001b[0m\n\u001b[1;32m--> 561\u001b[1;33m             raw_predictions = self._fit_stage(\n\u001b[0m\u001b[0;32m    562\u001b[0m                 \u001b[0mi\u001b[0m\u001b[1;33m,\u001b[0m \u001b[0mX\u001b[0m\u001b[1;33m,\u001b[0m \u001b[0my\u001b[0m\u001b[1;33m,\u001b[0m \u001b[0mraw_predictions\u001b[0m\u001b[1;33m,\u001b[0m \u001b[0msample_weight\u001b[0m\u001b[1;33m,\u001b[0m \u001b[0msample_mask\u001b[0m\u001b[1;33m,\u001b[0m\u001b[1;33m\u001b[0m\u001b[1;33m\u001b[0m\u001b[0m\n\u001b[0;32m    563\u001b[0m                 random_state, X_csc, X_csr)\n",
      "\u001b[1;32mC:\\ProgramData\\Anaconda3\\lib\\site-packages\\sklearn\\ensemble\\_gb.py\u001b[0m in \u001b[0;36m_fit_stage\u001b[1;34m(self, i, X, y, raw_predictions, sample_weight, sample_mask, random_state, X_csc, X_csr)\u001b[0m\n\u001b[0;32m    212\u001b[0m \u001b[1;33m\u001b[0m\u001b[0m\n\u001b[0;32m    213\u001b[0m             \u001b[0mX\u001b[0m \u001b[1;33m=\u001b[0m \u001b[0mX_csr\u001b[0m \u001b[1;32mif\u001b[0m \u001b[0mX_csr\u001b[0m \u001b[1;32mis\u001b[0m \u001b[1;32mnot\u001b[0m \u001b[1;32mNone\u001b[0m \u001b[1;32melse\u001b[0m \u001b[0mX\u001b[0m\u001b[1;33m\u001b[0m\u001b[1;33m\u001b[0m\u001b[0m\n\u001b[1;32m--> 214\u001b[1;33m             tree.fit(X, residual, sample_weight=sample_weight,\n\u001b[0m\u001b[0;32m    215\u001b[0m                      check_input=False)\n\u001b[0;32m    216\u001b[0m \u001b[1;33m\u001b[0m\u001b[0m\n",
      "\u001b[1;32mC:\\ProgramData\\Anaconda3\\lib\\site-packages\\sklearn\\tree\\_classes.py\u001b[0m in \u001b[0;36mfit\u001b[1;34m(self, X, y, sample_weight, check_input, X_idx_sorted)\u001b[0m\n\u001b[0;32m   1245\u001b[0m         \"\"\"\n\u001b[0;32m   1246\u001b[0m \u001b[1;33m\u001b[0m\u001b[0m\n\u001b[1;32m-> 1247\u001b[1;33m         super().fit(\n\u001b[0m\u001b[0;32m   1248\u001b[0m             \u001b[0mX\u001b[0m\u001b[1;33m,\u001b[0m \u001b[0my\u001b[0m\u001b[1;33m,\u001b[0m\u001b[1;33m\u001b[0m\u001b[1;33m\u001b[0m\u001b[0m\n\u001b[0;32m   1249\u001b[0m             \u001b[0msample_weight\u001b[0m\u001b[1;33m=\u001b[0m\u001b[0msample_weight\u001b[0m\u001b[1;33m,\u001b[0m\u001b[1;33m\u001b[0m\u001b[1;33m\u001b[0m\u001b[0m\n",
      "\u001b[1;32mC:\\ProgramData\\Anaconda3\\lib\\site-packages\\sklearn\\tree\\_classes.py\u001b[0m in \u001b[0;36mfit\u001b[1;34m(self, X, y, sample_weight, check_input, X_idx_sorted)\u001b[0m\n\u001b[0;32m    387\u001b[0m                                            min_impurity_split)\n\u001b[0;32m    388\u001b[0m \u001b[1;33m\u001b[0m\u001b[0m\n\u001b[1;32m--> 389\u001b[1;33m         \u001b[0mbuilder\u001b[0m\u001b[1;33m.\u001b[0m\u001b[0mbuild\u001b[0m\u001b[1;33m(\u001b[0m\u001b[0mself\u001b[0m\u001b[1;33m.\u001b[0m\u001b[0mtree_\u001b[0m\u001b[1;33m,\u001b[0m \u001b[0mX\u001b[0m\u001b[1;33m,\u001b[0m \u001b[0my\u001b[0m\u001b[1;33m,\u001b[0m \u001b[0msample_weight\u001b[0m\u001b[1;33m)\u001b[0m\u001b[1;33m\u001b[0m\u001b[1;33m\u001b[0m\u001b[0m\n\u001b[0m\u001b[0;32m    390\u001b[0m \u001b[1;33m\u001b[0m\u001b[0m\n\u001b[0;32m    391\u001b[0m         \u001b[1;32mif\u001b[0m \u001b[0mself\u001b[0m\u001b[1;33m.\u001b[0m\u001b[0mn_outputs_\u001b[0m \u001b[1;33m==\u001b[0m \u001b[1;36m1\u001b[0m \u001b[1;32mand\u001b[0m \u001b[0mis_classifier\u001b[0m\u001b[1;33m(\u001b[0m\u001b[0mself\u001b[0m\u001b[1;33m)\u001b[0m\u001b[1;33m:\u001b[0m\u001b[1;33m\u001b[0m\u001b[1;33m\u001b[0m\u001b[0m\n",
      "\u001b[1;31mKeyboardInterrupt\u001b[0m: "
     ]
    }
   ],
   "source": [
    "from sklearn.ensemble import GradientBoostingClassifier\n",
    "model = GradientBoostingClassifier(n_estimators=10, learning_rate=1.0, max_depth=1, random_state=0)\n",
    "model.fit(X_train, Y_train)\n",
    "Y_pred = model.predict(X_test)\n",
    "\n",
    "accuracy = accuracy_score(Y_test, Y_pred)\n",
    "precision, recall, f1_score, _ = precision_recall_fscore_support(Y_test, Y_pred, average='macro')\n",
    "print(\"Model: Gradient boost\")\n",
    "print(\"Accuracy: \", accuracy)\n",
    "print(\"Precision: \", precision)\n",
    "print(\"Recall: \", recall)\n",
    "print(\"F1-score: \", f1_score)\n",
    "\n",
    "matrix = confusion_matrix(Y_test, Y_pred)\n",
    "print(\"Confusion Matrix: \\n\",matrix)"
   ]
  },
  {
   "cell_type": "code",
   "execution_count": 51,
   "id": "a1ff65fb",
   "metadata": {},
   "outputs": [],
   "source": [
    "X_train = np.array(X_train)\n",
    "Y_train = np.array(Y_train)\n",
    "X_test = np.array(X_test)\n",
    "Y_test = np.array(Y_test)"
   ]
  },
  {
   "cell_type": "code",
   "execution_count": 66,
   "id": "624e9816",
   "metadata": {},
   "outputs": [],
   "source": [
    "import tensorflow \n",
    "batch_size =5"
   ]
  },
  {
   "cell_type": "code",
   "execution_count": 11,
   "id": "1a0d23b4",
   "metadata": {},
   "outputs": [
    {
     "name": "stdout",
     "output_type": "stream",
     "text": [
      "Model: \"sequential_5\"\n",
      "_________________________________________________________________\n",
      " Layer (type)                Output Shape              Param #   \n",
      "=================================================================\n",
      " conv2d_12 (Conv2D)          (None, 147, 147, 32)      1568      \n",
      "                                                                 \n",
      " max_pooling2d_9 (MaxPooling  (None, 73, 73, 32)       0         \n",
      " 2D)                                                             \n",
      "                                                                 \n",
      " conv2d_13 (Conv2D)          (None, 70, 70, 64)        32832     \n",
      "                                                                 \n",
      " max_pooling2d_10 (MaxPoolin  (None, 35, 35, 64)       0         \n",
      " g2D)                                                            \n",
      "                                                                 \n",
      " conv2d_14 (Conv2D)          (None, 32, 32, 128)       131200    \n",
      "                                                                 \n",
      " max_pooling2d_11 (MaxPoolin  (None, 16, 16, 128)      0         \n",
      " g2D)                                                            \n",
      "                                                                 \n",
      " flatten_5 (Flatten)         (None, 32768)             0         \n",
      "                                                                 \n",
      " dense_4 (Dense)             (None, 256)               8388864   \n",
      "                                                                 \n",
      " activation_4 (Activation)   (None, 256)               0         \n",
      "                                                                 \n",
      " dropout_2 (Dropout)         (None, 256)               0         \n",
      "                                                                 \n",
      " dense_5 (Dense)             (None, 1)                 257       \n",
      "                                                                 \n",
      " activation_5 (Activation)   (None, 1)                 0         \n",
      "                                                                 \n",
      "=================================================================\n",
      "Total params: 8,554,721\n",
      "Trainable params: 8,554,721\n",
      "Non-trainable params: 0\n",
      "_________________________________________________________________\n"
     ]
    },
    {
     "name": "stderr",
     "output_type": "stream",
     "text": [
      "<ipython-input-11-45e7c630ba3c>:35: UserWarning: `Model.fit_generator` is deprecated and will be removed in a future version. Please use `Model.fit`, which supports generators.\n",
      "  results = model.fit_generator(X_train,epochs=10,\n"
     ]
    },
    {
     "ename": "ValueError",
     "evalue": "Data is expected to be in format `x`, `(x,)`, `(x, y)`, or `(x, y, sample_weight)`, found: (array([ 69,  93, 148, ...,   6,  14,  31], dtype=uint8), array([78, 85, 72, ..., 83, 86, 71], dtype=uint8), array([ 35,  53,  85, ..., 158, 174, 180], dtype=uint8), array([ 62,  72, 112, ...,  49,  35,  33], dtype=uint8), array([ 79,  97, 129, ...,  98,  75,  46], dtype=uint8), array([138, 133, 155, ...,  46,  22,  10], dtype=uint8), array([ 70,  71,  68, ..., 184, 184, 168], dtype=uint8), array([128, 136, 167, ...,  72,  87, 116], dtype=uint8), array([66, 76, 95, ..., 76, 83, 72], dtype=uint8), array([46, 64, 92, ..., 52, 51, 33], dtype=uint8), array([ 27,  79, 120, ...,  20,  40,  68], dtype=uint8), array([ 56,  80,  97, ..., 109, 104, 105], dtype=uint8), array([169, 185, 197, ...,  47,  75,  82], dtype=uint8), array([157, 173, 191, ...,   6,   6,  20], dtype=uint8), array([139, 154, 173, ..., 242, 210, 165], dtype=uint8), array([ 24,  45,  76, ..., 110, 126, 143], dtype=uint8), array([ 21,  11,  12, ...,  70, 122, 100], dtype=uint8), array([ 40,  73, 118, ..., 117, 159, 198], dtype=uint8), array([39, 63, 89, ..., 18, 14, 13], dtype=uint8), array([ 98, 125, 152, ...,  65,  51,  35], dtype=uint8), array([ 35,  52,  84, ..., 176, 192, 195], dtype=uint8), array([137, 144, 171, ...,  87, 106, 138], dtype=uint8), array([ 49,  78, 105, ..., 178, 200, 211], dtype=uint8), array([171, 129,  84, ...,  49,  60,  64], dtype=uint8), array([20, 13, 12, ..., 17, 16, 12], dtype=uint8), array([122, 133, 150, ...,  15,  13,  12], dtype=uint8), array([ 36,  51,  83, ..., 152, 168, 174], dtype=uint8), array([223, 207, 235, ..., 118, 137, 140], dtype=uint8), array([ 94, 109, 122, ...,  28,  33,  40], dtype=uint8), array([ 32,  33,  83, ..., 137, 158, 175], dtype=uint8), array([62, 68, 87, ..., 70, 55, 75], dtype=uint8), array([ 55,  86, 140, ...,  78,  74,  76], dtype=uint8), array([ 84, 138, 142, ..., 114,  92, 176], dtype=uint8), array([47, 71, 93, ..., 98, 61, 38], dtype=uint8), array([157, 174, 186, ...,  92,  92,  61], dtype=uint8), array([33, 30, 25, ..., 90, 86, 72], dtype=uint8), array([75, 72, 62, ...,  6,  5,  5], dtype=uint8), array([51, 52, 44, ..., 34, 32, 14], dtype=uint8), array([146, 158, 167, ...,  75,  94, 105], dtype=uint8), array([ 32,  51,  78, ..., 137, 156, 191], dtype=uint8), array([ 93, 112, 147, ..., 142, 147, 140], dtype=uint8), array([39, 58, 71, ..., 65, 56, 86], dtype=uint8), array([38, 50, 82, ..., 22, 34, 74], dtype=uint8), array([21, 21, 28, ..., 52, 57, 65], dtype=uint8), array([61, 60, 86, ..., 30, 29, 25], dtype=uint8), array([165, 182, 197, ...,  48,  50,  54], dtype=uint8), array([ 72,  76, 105, ...,  58,  74,  73], dtype=uint8), array([153, 160, 163, ...,  25,  33,  59], dtype=uint8), array([ 8,  5,  6, ..., 21, 13, 10], dtype=uint8), array([ 77,  97, 106, ...,  19,  17,  16], dtype=uint8), array([43, 58, 77, ..., 85, 94, 90], dtype=uint8), array([ 72,  96, 114, ..., 238, 224, 205], dtype=uint8), array([ 28,  34,  46, ...,  96, 102,  90], dtype=uint8), array([ 81,  90, 105, ..., 143, 120, 197], dtype=uint8), array([ 56,  69,  87, ..., 207, 213, 202], dtype=uint8), array([128, 148, 190, ..., 119, 165, 213], dtype=uint8), array([106, 103,  93, ..., 160, 153, 124], dtype=uint8), array([ 12,   6,   7, ...,  68, 116, 102], dtype=uint8), array([165, 183, 194, ...,  20,  22,  34], dtype=uint8), array([155, 160, 166, ..., 106, 100, 111], dtype=uint8), array([ 58,  63,  86, ..., 150, 148, 137], dtype=uint8), array([152, 155, 148, ...,  27,  26,  22], dtype=uint8), array([125, 108, 135, ...,  31,  28,  23], dtype=uint8), array([122, 129, 146, ...,  19,  17,  16], dtype=uint8), array([49, 64, 74, ..., 53, 23,  8], dtype=uint8), array([ 85,  95, 109, ...,  24,  14,  11], dtype=uint8), array([ 73,  79,  73, ..., 126,  94,  58], dtype=uint8), array([132, 155, 190, ..., 187, 195, 178], dtype=uint8), array([182, 182, 166, ..., 139, 145, 130], dtype=uint8), array([ 40,  62,  87, ...,  52,  46, 169], dtype=uint8), array([ 75,  92, 116, ...,  51,  60,  78], dtype=uint8), array([ 63,  81,  99, ...,  76, 100, 122], dtype=uint8), array([ 21,  25,  35, ..., 121, 120, 106], dtype=uint8), array([ 65,  80, 111, ..., 190, 200, 207], dtype=uint8), array([ 71,  88, 106, ...,  24,  16,  13], dtype=uint8), array([ 36,  41,  40, ..., 173, 170, 154], dtype=uint8), array([ 37,  39,  60, ...,  78,  58, 103], dtype=uint8), array([119, 136, 162, ..., 135, 131, 116], dtype=uint8), array([205, 205, 205, ..., 160, 160, 160], dtype=uint8), array([220, 222, 210, ...,   2,   2,  84], dtype=uint8), array([136, 120, 104, ..., 165, 156, 160], dtype=uint8), array([46, 35, 30, ..., 35, 31, 25], dtype=uint8), array([ 65,  84, 109, ..., 222, 220, 209], dtype=uint8), array([ 42,  55,  77, ..., 110,  83,  57], dtype=uint8), array([ 64,  77, 102, ..., 182, 194, 199], dtype=uint8), array([ 67,  78,  91, ..., 115, 177, 212], dtype=uint8), array([158, 162, 181, ...,  30,  53,  73], dtype=uint8), array([ 89,  76,  57, ..., 214, 206, 191], dtype=uint8), array([126, 146, 171, ..., 203, 202, 192], dtype=uint8), array([ 93,  86, 115, ...,  57,  66, 103], dtype=uint8), array([ 37,  50,  66, ..., 151, 155, 149], dtype=uint8), array([119, 109, 118, ...,  47,  42,  50], dtype=uint8), array([206, 215, 217, ...,  39,  33,  22], dtype=uint8), array([123, 144, 176, ...,  45,  42,  36], dtype=uint8), array([ 80,  89,  71, ..., 112,  72,  46], dtype=uint8), array([ 21,  28,  71, ..., 132, 143, 157], dtype=uint8), array([ 69, 125, 126, ...,  95,  75, 150], dtype=uint8), array([39, 54, 84, ..., 17, 15, 14], dtype=uint8), array([ 62,  93, 149, ...,  85,  79,  79], dtype=uint8), array([ 58,  88, 110, ..., 112, 114, 115], dtype=uint8), array([114, 119, 118, ...,  39,  60,  21], dtype=uint8), array([61, 74, 97, ..., 20, 22, 31], dtype=uint8), array([173, 176, 191, ..., 210, 208, 189], dtype=uint8), array([ 58, 101, 150, ...,  67,  91, 120], dtype=uint8), array([127, 111, 139, ...,  33,  30,  26], dtype=uint8), array([136, 160, 189, ...,  17,  11,   5], dtype=uint8), array([ 69,  99, 158, ...,  72,  64,  64], dtype=uint8), array([113, 143, 176, ..., 217, 206, 208], dtype=uint8), array([214, 216, 203, ...,  36,  35, 132], dtype=uint8), array([ 93, 114, 130, ..., 161, 161, 143], dtype=uint8), array([112, 131, 169, ..., 232, 204, 182], dtype=uint8), array([ 38,  54,  86, ..., 180, 193, 195], dtype=uint8), array([ 35,  50,  70, ..., 192, 208, 207], dtype=uint8), array([139, 187, 238, ...,  54,  49,  51], dtype=uint8), array([ 56,  69, 110, ...,  56,  40,  38], dtype=uint8), array([ 57,  61,  71, ...,  69, 111, 134], dtype=uint8), array([127, 162, 206, ...,   1,   2,  21], dtype=uint8), array([42, 58, 74, ..., 84, 64, 46], dtype=uint8), array([ 78,  79,  85, ...,  64, 106, 130], dtype=uint8), array([152, 155, 161, ...,  68,  63,  75], dtype=uint8), array([ 45,  68,  84, ..., 113, 129, 145], dtype=uint8), array([ 6,  1,  2, ..., 12,  6,  7], dtype=uint8), array([49, 62, 86, ..., 14, 12, 17], dtype=uint8), array([32, 30, 30, ..., 37, 39, 17], dtype=uint8), array([ 74,  79, 106, ..., 144, 109, 175], dtype=uint8), array([158, 139, 135, ...,  10,   6,   7], dtype=uint8), array([124, 130, 135, ..., 114,  80,  49], dtype=uint8), array([162, 173, 198, ...,  30,  31,  18], dtype=uint8), array([30, 21, 18, ..., 63, 90, 94], dtype=uint8), array([ 67,  83, 124, ..., 211, 186, 160], dtype=uint8), array([ 65,  94, 149, ...,  23,  41,  78], dtype=uint8), array([176, 188, 202, ...,  45,  38,  29], dtype=uint8), array([153, 156, 180, ...,  49,  91,  84], dtype=uint8), array([ 65,  95, 153, ..., 133, 136, 145], dtype=uint8), array([29, 50, 78, ..., 67, 73, 69], dtype=uint8), array([ 64,  76,  99, ..., 220, 191, 108], dtype=uint8), array([131, 157, 186, ...,  21,  15,   8], dtype=uint8), array([116, 125, 154, ...,  79, 101, 137], dtype=uint8), array([ 26,  47,  76, ..., 141, 137, 136], dtype=uint8), array([190, 197, 217, ..., 176, 181, 206], dtype=uint8), array([ 85,  97, 128, ..., 187, 205, 218], dtype=uint8), array([77, 86, 73, ..., 28, 15,  9], dtype=uint8), array([ 29,  51,  76, ..., 105, 112, 108], dtype=uint8), array([93, 92, 85, ..., 17, 20, 39], dtype=uint8), array([151, 152, 160, ...,  88,  84,  88], dtype=uint8), array([ 70,  72, 103, ...,  92, 119, 139], dtype=uint8), array([52, 44, 31, ..., 39, 42, 39], dtype=uint8), array([ 41,  56,  89, ..., 180, 193, 195], dtype=uint8), array([ 64,  71, 102, ..., 226, 219, 210], dtype=uint8), array([111, 126, 142, ...,  22,  18,  29], dtype=uint8), array([11,  5,  7, ..., 25, 20, 17], dtype=uint8), array([ 56,  74,  97, ..., 102,  90, 166], dtype=uint8), array([218, 220, 208, ...,  16,  13, 120], dtype=uint8), array([ 64,  80, 107, ..., 147, 127,  97], dtype=uint8), array([56, 72, 94, ..., 20, 28, 35], dtype=uint8), array([ 12,   6,   7, ...,  55, 120,  91], dtype=uint8), array([176, 175, 164, ..., 191, 186, 171], dtype=uint8), array([10,  6, 11, ..., 15,  8, 11], dtype=uint8), array([107, 117, 137, ...,  19,  18,  15], dtype=uint8), array([38, 45, 62, ..., 69, 64, 95], dtype=uint8), array([ 76,  91, 124, ...,  31,  24,  15], dtype=uint8), array([183, 185, 179, ..., 154, 158, 153], dtype=uint8), array([130, 138, 169, ...,  85, 103, 138], dtype=uint8), array([ 89,  98, 139, ...,  93, 112, 146], dtype=uint8), array([108, 125, 147, ...,  11,  14,  19], dtype=uint8), array([108, 125, 146, ...,   5,   7,   9], dtype=uint8), array([ 46,  70,  94, ..., 181, 199, 210], dtype=uint8), array([ 82, 101, 116, ...,  66,  75,  54], dtype=uint8), array([33, 42, 64, ...,  0,  0,  0], dtype=uint8), array([26, 23, 22, ..., 26, 24, 22], dtype=uint8), array([ 62,  67, 100, ..., 223, 218, 217], dtype=uint8), array([ 33,  29, 132, ..., 160, 121, 176], dtype=uint8), array([156, 149, 134, ...,  87,  92,  99], dtype=uint8), array([43, 54, 77, ..., 36, 38, 72], dtype=uint8), array([ 69,  75, 109, ..., 233, 223, 216], dtype=uint8), array([162, 156, 171, ...,  49,  25,   9], dtype=uint8), array([38, 40, 48, ..., 30, 34, 39], dtype=uint8), array([ 55,  79, 101, ...,  30,  44,  39], dtype=uint8), array([ 54,  63,  60, ..., 124,  92,  56], dtype=uint8), array([ 91, 102, 130, ...,  88,  90,  81], dtype=uint8), array([184, 182, 181, ...,  29,  38,  60], dtype=uint8), array([127, 146, 162, ...,  17,  21,  20], dtype=uint8), array([122,  85,  90, ...,  70,  87,  98], dtype=uint8), array([ 81,  91, 109, ...,  60,  85, 104], dtype=uint8), array([119, 114, 135, ...,  54,  27,  12], dtype=uint8), array([149, 147, 153, ...,  78,  79,  91], dtype=uint8), array([ 72,  98, 118, ..., 239, 225, 207], dtype=uint8), array([ 14,   7,   8, ...,  83, 114, 105], dtype=uint8), array([114, 132, 141, ...,  83, 139, 140], dtype=uint8), array([201, 212, 215, ...,  33,  32,  36], dtype=uint8), array([146, 172, 218, ...,  79,  80,  84], dtype=uint8), array([148, 162, 188, ..., 128, 146, 135], dtype=uint8), array([59, 82, 95, ..., 62, 48, 79], dtype=uint8), array([ 84,  88, 114, ..., 183, 197, 203], dtype=uint8), array([66, 76, 60, ..., 75, 82, 61], dtype=uint8), array([154, 158, 174, ...,  48,  42,  40], dtype=uint8), array([160, 177, 190, ...,  32,  31,  52], dtype=uint8), array([115, 117, 105, ..., 110, 107,  98], dtype=uint8), array([ 51,  59,  82, ..., 134, 131, 117], dtype=uint8), array([110, 158, 222, ...,  39,  36,  32], dtype=uint8), array([ 88,  94, 136, ..., 227, 222, 223], dtype=uint8), array([ 92, 103, 140, ...,  43,  32,  33], dtype=uint8), array([176, 166, 149, ..., 122, 126, 121], dtype=uint8), array([ 52,  56,  85, ..., 235, 206, 189], dtype=uint8), array([ 45,  74,  97, ..., 174, 199, 211], dtype=uint8), array([49, 64, 82, ..., 11,  8, 11], dtype=uint8), array([ 22,  12,  12, ...,  56, 122,  96], dtype=uint8), array([216, 219, 226, ...,   5,   4,   4], dtype=uint8), array([104, 113, 127, ...,  82,  75, 108], dtype=uint8), array([ 95, 106, 133, ...,  51,  52,  50], dtype=uint8), array([54, 64, 93, ..., 29, 34, 49], dtype=uint8), array([69, 73, 61, ..., 80, 86, 65], dtype=uint8), array([35, 42, 55, ..., 62, 69, 84], dtype=uint8), array([ 97, 115, 127, ...,  14,  22,  39], dtype=uint8), array([29, 18, 15, ..., 25, 21, 17], dtype=uint8), array([47, 56, 84, ..., 40, 48, 69], dtype=uint8), array([37, 37, 49, ..., 32, 30, 22], dtype=uint8), array([101, 121, 140, ...,   5,   5,   6], dtype=uint8), array([101,  94,  83, ...,  24,  33,  51], dtype=uint8), array([181, 196, 238, ..., 176, 192, 203], dtype=uint8), array([ 60,  65,  86, ..., 221, 211, 203], dtype=uint8), array([ 90, 105, 128, ...,  92,  98,  87], dtype=uint8), array([ 44,  61, 100, ...,  97, 175, 190], dtype=uint8), array([ 61,  75, 100, ...,  44,  52,  73], dtype=uint8), array([ 60,  61,  62, ..., 120, 121, 102], dtype=uint8), array([ 90,  99, 119, ...,  77, 104, 128], dtype=uint8), array([ 62,  70, 106, ..., 220, 215, 216], dtype=uint8), array([ 71,  96, 112, ...,  70,  72,  72], dtype=uint8), array([ 72,  75, 106, ...,  94, 122, 140], dtype=uint8), array([ 27,  81, 122, ...,  19,  40,  66], dtype=uint8), array([ 56,  66, 101, ...,  52,  37,  36], dtype=uint8), array([227, 215, 185, ...,  19,  12,  25], dtype=uint8), array([71, 88, 95, ..., 66, 72, 81], dtype=uint8), array([129, 122, 121, ..., 220, 193, 166], dtype=uint8), array([ 39,  56,  88, ..., 180, 193, 195], dtype=uint8), array([124, 167, 225, ...,  38,  32,  21], dtype=uint8), array([125, 140, 157, ...,  20,  22,  21], dtype=uint8), array([ 94,  90,  85, ..., 141, 126, 107], dtype=uint8), array([ 87, 114, 140, ...,  77,  53,  29], dtype=uint8), array([ 71,  83, 109, ...,  12,  13,  47], dtype=uint8), array([ 69,  99, 122, ..., 173, 201, 218], dtype=uint8), array([ 79,  85, 127, ..., 215, 210, 211], dtype=uint8), array([ 64,  83, 104, ...,  26,  33,  43], dtype=uint8), array([ 66,  78, 107, ...,  31,  23,  14], dtype=uint8), array([107, 116, 128, ...,  70,  65,  94], dtype=uint8), array([27, 38, 68, ..., 39, 48, 75], dtype=uint8), array([ 78,  83,  74, ..., 124,  91,  57], dtype=uint8), array([125, 132, 158, ...,  57,  40,  29], dtype=uint8), array([93, 62, 69, ..., 55, 66, 75], dtype=uint8), array([ 63,  67,  77, ...,  63, 105, 127], dtype=uint8), array([44, 66, 92, ...,  5,  5,  5], dtype=uint8), array([125, 141, 158, ...,  20,  17,  26], dtype=uint8), array([ 39,  56,  83, ..., 104, 108, 110], dtype=uint8), array([ 78,  84, 127, ..., 221, 216, 217], dtype=uint8), array([76, 75, 69, ..., 18, 21, 40], dtype=uint8), array([ 95,  88, 104, ..., 127, 126, 113], dtype=uint8), array([160, 167, 192, ...,  72, 109, 100], dtype=uint8), array([52, 44, 37, ..., 40, 36, 35], dtype=uint8), array([ 75,  97, 114, ..., 236, 222, 203], dtype=uint8), array([86, 61, 30, ..., 77, 55, 27], dtype=uint8), array([17, 27, 35, ..., 15, 15, 16], dtype=uint8), array([123, 141, 154, ..., 246, 232, 213], dtype=uint8), array([104, 110, 134, ...,  70,  51,  38], dtype=uint8), array([ 44,  67,  93, ..., 180, 200, 211], dtype=uint8), array([ 90,  89,  91, ..., 220, 194, 110], dtype=uint8), array([122, 120,  96, ...,  21,  15,   9], dtype=uint8), array([ 96,  92,  87, ..., 221, 202, 181], dtype=uint8), array([79, 86, 95, ..., 59, 59, 58], dtype=uint8), array([ 95, 101, 122, ...,  65,  91, 105], dtype=uint8), array([ 49,  64,  83, ..., 119,  98, 172], dtype=uint8), array([ 57,  62,  83, ..., 118, 131, 135], dtype=uint8), array([42, 62, 89, ..., 10,  6, 11], dtype=uint8), array([14, 47, 86, ...,  8, 30, 62], dtype=uint8), array([11,  7,  7, ..., 10,  6,  5], dtype=uint8), array([57, 74, 88, ..., 46, 57, 63], dtype=uint8), array([ 53,  56,  65, ...,  57, 101, 126], dtype=uint8), array([ 37,  50,  88, ..., 119, 142, 164], dtype=uint8), array([159, 162, 146, ...,  83,  91,  81], dtype=uint8), array([160, 173, 188, ...,   6,   6,  20], dtype=uint8), array([ 89,  91,  96, ..., 115, 103,  84], dtype=uint8), array([166, 181, 190, ...,  18,  15,  27], dtype=uint8), array([120, 155, 173, ..., 110, 105, 106], dtype=uint8), array([ 73, 101, 155, ...,  21,  39,  80], dtype=uint8), array([144, 160, 172, ...,  25,  23,  29], dtype=uint8), array([ 61,  74, 100, ..., 113, 115, 104], dtype=uint8), array([ 35,  53,  90, ...,  54, 147, 163], dtype=uint8), array([41, 45, 67, ...,  0,  0,  0], dtype=uint8), array([ 60,  62,  92, ..., 217, 204, 197], dtype=uint8), array([ 53,  82, 113, ...,  39,  43,  39], dtype=uint8), array([187, 187, 181, ..., 184, 190, 185], dtype=uint8), array([165, 167, 155, ..., 184, 184, 174], dtype=uint8), array([ 99, 104, 128, ...,  70,  51,  36], dtype=uint8), array([ 42,  56,  75, ..., 112,  86,  58], dtype=uint8), array([133, 148, 174, ...,  67,  87, 118], dtype=uint8), array([54, 60, 79, ..., 66, 53, 77], dtype=uint8), array([ 95, 110, 156, ..., 197, 185, 173], dtype=uint8), array([ 92, 103, 134, ..., 183, 186, 177], dtype=uint8), array([185, 174, 160, ..., 153, 145, 128], dtype=uint8), array([22, 25, 42, ...,  1,  1,  3], dtype=uint8), array([85, 85, 69, ..., 96, 55, 38], dtype=uint8), array([106, 140, 170, ...,  76,  59,  40], dtype=uint8), array([ 42,  59,  77, ..., 162, 170, 163], dtype=uint8), array([150, 155, 165, ..., 106, 102, 108], dtype=uint8), array([ 93, 107, 119, ..., 166, 164, 146], dtype=uint8), array([93, 75, 64, ..., 14, 14, 13], dtype=uint8), array([ 61,  66,  91, ..., 220, 204, 196], dtype=uint8), array([105, 123, 182, ...,  31,  22,  19], dtype=uint8), array([119, 138, 145, ...,  69, 114, 115], dtype=uint8), array([154, 153, 140, ...,  19,  27,  30], dtype=uint8), array([ 72,  75, 106, ...,  98, 125, 145], dtype=uint8), array([ 18,   8,  10, ...,  84, 143, 116], dtype=uint8), array([219, 209, 185, ...,  13,   9,  24], dtype=uint8), array([ 53,  76, 102, ...,  37,  36,  30], dtype=uint8), array([60, 73, 99, ..., 50, 57, 74], dtype=uint8), array([158, 159, 166, ...,  86,  86, 100], dtype=uint8), array([134, 140, 128, ..., 127, 131, 117], dtype=uint8), array([104, 108, 107, ..., 152, 158, 169], dtype=uint8), array([ 75,  96, 123, ..., 220, 220, 208], dtype=uint8), array([ 66,  78, 120, ...,   0,   0,   0], dtype=uint8), array([ 34,  51,  83, ..., 152, 168, 176], dtype=uint8), array([14, 47, 86, ...,  9, 34, 69], dtype=uint8), array([ 54,  73,  96, ...,  99,  88, 162], dtype=uint8), array([39, 50, 78, ..., 49, 61, 81], dtype=uint8), array([ 82, 102, 133, ..., 155, 118,  61], dtype=uint8), array([10,  6, 11, ..., 84, 94, 97], dtype=uint8), array([116, 140, 170, ...,  74,  61,  39], dtype=uint8), array([22, 55, 66, ..., 51, 82, 89], dtype=uint8), array([ 32,  52,  84, ..., 131, 140, 142], dtype=uint8), array([32, 52, 79, ..., 11,  8, 10], dtype=uint8), array([213, 213, 208, ...,  42,  34,  21], dtype=uint8), array([ 9,  4,  5, ..., 28, 28, 22], dtype=uint8), array([ 98, 117, 174, ...,  34,  24,  19], dtype=uint8), array([123, 123,  98, ...,  25,  14,   8], dtype=uint8), array([16,  8,  8, ..., 21, 18, 16], dtype=uint8), array([ 88,  95, 138, ..., 228, 223, 224], dtype=uint8), array([ 24,  12,  12, ...,  42, 104,  78], dtype=uint8), array([ 52,  79, 105, ..., 178, 204, 218], dtype=uint8), array([140, 156, 179, ...,  69,  89, 121], dtype=uint8), array([ 92,  88,  87, ..., 230, 206, 183], dtype=uint8), array([122, 141, 155, ...,  15,  16,  16], dtype=uint8), array([ 79, 101, 126, ...,  52,  67,  59], dtype=uint8), array([ 32,  49,  90, ...,  69, 106, 158], dtype=uint8), array([159, 185, 231, ...,  83,  88,  94], dtype=uint8), array([ 91,  99, 125, ...,  69,  52,  40], dtype=uint8), array([ 23,  14,  24, ..., 134, 151, 154], dtype=uint8), array([ 92, 112, 120, ...,   8,   8,   8], dtype=uint8), array([ 70,  80,  98, ..., 126, 101, 176], dtype=uint8), array([110, 127, 156, ..., 171, 134,  75], dtype=uint8), array([20, 22, 27, ..., 53, 60, 69], dtype=uint8), array([155, 168, 160, ..., 171, 180, 175], dtype=uint8), array([ 68,  69,  79, ...,  61, 106, 130], dtype=uint8), array([136, 150, 176, ...,  68,  88, 119], dtype=uint8), array([ 60,  80, 101, ...,  20,  24,  34], dtype=uint8), array([ 31,  49,  82, ..., 176, 192, 195], dtype=uint8), array([157, 172, 182, ...,  12,   9,  18], dtype=uint8), array([ 48,  72,  90, ..., 140, 160, 177], dtype=uint8), array([170, 191, 232, ...,  15,  10,  11], dtype=uint8), array([16, 16, 16, ..., 56, 65, 79], dtype=uint8), array([12,  8,  7, ..., 56, 40, 27], dtype=uint8), array([ 83,  88,  88, ..., 120,  88,  57], dtype=uint8), array([ 67,  79,  98, ..., 142, 122, 195], dtype=uint8), array([ 40,  53,  91, ..., 108, 129, 155], dtype=uint8), array([61, 72, 86, ..., 29, 16,  9], dtype=uint8), array([119, 139, 151, ...,  20,  25,  24], dtype=uint8), array([111, 134, 160, ...,  49,  35,  27], dtype=uint8), array([119, 134, 151, ...,  34,  35,  37], dtype=uint8), array([ 31, 101, 141, ...,  51,  53,  42], dtype=uint8), array([67, 77, 60, ..., 75, 82, 61], dtype=uint8), array([135, 130, 112, ...,  62,  47,  31], dtype=uint8), array([142, 158, 170, ...,  22,  18,  29], dtype=uint8), array([66, 72, 61, ..., 79, 85, 62], dtype=uint8), array([64, 75, 96, ..., 23, 22, 18], dtype=uint8), array([ 75,  90, 110, ...,  67,  67,  57], dtype=uint8), array([ 45,  56,  73, ..., 178, 177, 164], dtype=uint8), array([137, 155, 183, ...,  83,  92,  84], dtype=uint8), array([164, 163, 153, ...,  20,  15, 119], dtype=uint8), array([160, 167, 186, ...,  56,  60,  55], dtype=uint8), array([ 50,  55,  64, ...,  55, 101, 125], dtype=uint8), array([130, 137, 162, ...,  69,  48,  35], dtype=uint8), array([191, 198, 202, ...,  18,  20,  28], dtype=uint8), array([ 88, 111, 143, ..., 244, 241, 243], dtype=uint8), array([ 15,   7,   8, ...,  93,  95, 107], dtype=uint8), array([ 41,  55,  77, ..., 184, 198, 197], dtype=uint8), array([ 72,  89, 110, ...,  25,  27,  37], dtype=uint8), array([42, 53, 80, ..., 47, 56, 77], dtype=uint8), array([21, 20, 30, ..., 58, 41, 96], dtype=uint8), array([87, 66, 41, ..., 79, 60, 33], dtype=uint8), array([49, 66, 78, ..., 46, 57, 65], dtype=uint8), array([122, 136, 154, ...,  15,  18,  16], dtype=uint8), array([ 85, 115, 150, ...,  81,  58,  33], dtype=uint8), array([64, 51, 45, ..., 67, 60, 46], dtype=uint8), array([141, 180, 243, ...,  46,  42,  41], dtype=uint8), array([40, 46, 57, ..., 64, 72, 85], dtype=uint8))",
     "output_type": "error",
     "traceback": [
      "\u001b[1;31m---------------------------------------------------------------------------\u001b[0m",
      "\u001b[1;31mValueError\u001b[0m                                Traceback (most recent call last)",
      "\u001b[1;32m<ipython-input-11-45e7c630ba3c>\u001b[0m in \u001b[0;36m<module>\u001b[1;34m\u001b[0m\n\u001b[0;32m     33\u001b[0m \u001b[1;33m\u001b[0m\u001b[0m\n\u001b[0;32m     34\u001b[0m \u001b[1;33m\u001b[0m\u001b[0m\n\u001b[1;32m---> 35\u001b[1;33m results = model.fit_generator(X_train,epochs=10,\n\u001b[0m\u001b[0;32m     36\u001b[0m                               \u001b[0msteps_per_epoch\u001b[0m\u001b[1;33m=\u001b[0m\u001b[1;36m1\u001b[0m\u001b[1;33m,\u001b[0m\u001b[1;33m\u001b[0m\u001b[1;33m\u001b[0m\u001b[0m\n\u001b[0;32m     37\u001b[0m                               \u001b[0mvalidation_data\u001b[0m\u001b[1;33m=\u001b[0m\u001b[0mX_test\u001b[0m\u001b[1;33m,\u001b[0m\u001b[1;33m\u001b[0m\u001b[1;33m\u001b[0m\u001b[0m\n",
      "\u001b[1;32mC:\\ProgramData\\Anaconda3\\lib\\site-packages\\keras\\engine\\training.py\u001b[0m in \u001b[0;36mfit_generator\u001b[1;34m(self, generator, steps_per_epoch, epochs, verbose, callbacks, validation_data, validation_steps, validation_freq, class_weight, max_queue_size, workers, use_multiprocessing, shuffle, initial_epoch)\u001b[0m\n\u001b[0;32m   2207\u001b[0m         \u001b[1;34m'Please use `Model.fit`, which supports generators.'\u001b[0m\u001b[1;33m,\u001b[0m\u001b[1;33m\u001b[0m\u001b[1;33m\u001b[0m\u001b[0m\n\u001b[0;32m   2208\u001b[0m         stacklevel=2)\n\u001b[1;32m-> 2209\u001b[1;33m     return self.fit(\n\u001b[0m\u001b[0;32m   2210\u001b[0m         \u001b[0mgenerator\u001b[0m\u001b[1;33m,\u001b[0m\u001b[1;33m\u001b[0m\u001b[1;33m\u001b[0m\u001b[0m\n\u001b[0;32m   2211\u001b[0m         \u001b[0msteps_per_epoch\u001b[0m\u001b[1;33m=\u001b[0m\u001b[0msteps_per_epoch\u001b[0m\u001b[1;33m,\u001b[0m\u001b[1;33m\u001b[0m\u001b[1;33m\u001b[0m\u001b[0m\n",
      "\u001b[1;32mC:\\ProgramData\\Anaconda3\\lib\\site-packages\\keras\\utils\\traceback_utils.py\u001b[0m in \u001b[0;36merror_handler\u001b[1;34m(*args, **kwargs)\u001b[0m\n\u001b[0;32m     65\u001b[0m     \u001b[1;32mexcept\u001b[0m \u001b[0mException\u001b[0m \u001b[1;32mas\u001b[0m \u001b[0me\u001b[0m\u001b[1;33m:\u001b[0m  \u001b[1;31m# pylint: disable=broad-except\u001b[0m\u001b[1;33m\u001b[0m\u001b[1;33m\u001b[0m\u001b[0m\n\u001b[0;32m     66\u001b[0m       \u001b[0mfiltered_tb\u001b[0m \u001b[1;33m=\u001b[0m \u001b[0m_process_traceback_frames\u001b[0m\u001b[1;33m(\u001b[0m\u001b[0me\u001b[0m\u001b[1;33m.\u001b[0m\u001b[0m__traceback__\u001b[0m\u001b[1;33m)\u001b[0m\u001b[1;33m\u001b[0m\u001b[1;33m\u001b[0m\u001b[0m\n\u001b[1;32m---> 67\u001b[1;33m       \u001b[1;32mraise\u001b[0m \u001b[0me\u001b[0m\u001b[1;33m.\u001b[0m\u001b[0mwith_traceback\u001b[0m\u001b[1;33m(\u001b[0m\u001b[0mfiltered_tb\u001b[0m\u001b[1;33m)\u001b[0m \u001b[1;32mfrom\u001b[0m \u001b[1;32mNone\u001b[0m\u001b[1;33m\u001b[0m\u001b[1;33m\u001b[0m\u001b[0m\n\u001b[0m\u001b[0;32m     68\u001b[0m     \u001b[1;32mfinally\u001b[0m\u001b[1;33m:\u001b[0m\u001b[1;33m\u001b[0m\u001b[1;33m\u001b[0m\u001b[0m\n\u001b[0;32m     69\u001b[0m       \u001b[1;32mdel\u001b[0m \u001b[0mfiltered_tb\u001b[0m\u001b[1;33m\u001b[0m\u001b[1;33m\u001b[0m\u001b[0m\n",
      "\u001b[1;32mC:\\ProgramData\\Anaconda3\\lib\\site-packages\\keras\\engine\\data_adapter.py\u001b[0m in \u001b[0;36munpack_x_y_sample_weight\u001b[1;34m(data)\u001b[0m\n\u001b[0;32m   1575\u001b[0m     error_msg = (\"Data is expected to be in format `x`, `(x,)`, `(x, y)`, \"\n\u001b[0;32m   1576\u001b[0m                  \"or `(x, y, sample_weight)`, found: {}\").format(data)\n\u001b[1;32m-> 1577\u001b[1;33m     \u001b[1;32mraise\u001b[0m \u001b[0mValueError\u001b[0m\u001b[1;33m(\u001b[0m\u001b[0merror_msg\u001b[0m\u001b[1;33m)\u001b[0m\u001b[1;33m\u001b[0m\u001b[1;33m\u001b[0m\u001b[0m\n\u001b[0m\u001b[0;32m   1578\u001b[0m \u001b[1;33m\u001b[0m\u001b[0m\n\u001b[0;32m   1579\u001b[0m \u001b[1;33m\u001b[0m\u001b[0m\n",
      "\u001b[1;31mValueError\u001b[0m: Data is expected to be in format `x`, `(x,)`, `(x, y)`, or `(x, y, sample_weight)`, found: (array([ 69,  93, 148, ...,   6,  14,  31], dtype=uint8), array([78, 85, 72, ..., 83, 86, 71], dtype=uint8), array([ 35,  53,  85, ..., 158, 174, 180], dtype=uint8), array([ 62,  72, 112, ...,  49,  35,  33], dtype=uint8), array([ 79,  97, 129, ...,  98,  75,  46], dtype=uint8), array([138, 133, 155, ...,  46,  22,  10], dtype=uint8), array([ 70,  71,  68, ..., 184, 184, 168], dtype=uint8), array([128, 136, 167, ...,  72,  87, 116], dtype=uint8), array([66, 76, 95, ..., 76, 83, 72], dtype=uint8), array([46, 64, 92, ..., 52, 51, 33], dtype=uint8), array([ 27,  79, 120, ...,  20,  40,  68], dtype=uint8), array([ 56,  80,  97, ..., 109, 104, 105], dtype=uint8), array([169, 185, 197, ...,  47,  75,  82], dtype=uint8), array([157, 173, 191, ...,   6,   6,  20], dtype=uint8), array([139, 154, 173, ..., 242, 210, 165], dtype=uint8), array([ 24,  45,  76, ..., 110, 126, 143], dtype=uint8), array([ 21,  11,  12, ...,  70, 122, 100], dtype=uint8), array([ 40,  73, 118, ..., 117, 159, 198], dtype=uint8), array([39, 63, 89, ..., 18, 14, 13], dtype=uint8), array([ 98, 125, 152, ...,  65,  51,  35], dtype=uint8), array([ 35,  52,  84, ..., 176, 192, 195], dtype=uint8), array([137, 144, 171, ...,  87, 106, 138], dtype=uint8), array([ 49,  78, 105, ..., 178, 200, 211], dtype=uint8), array([171, 129,  84, ...,  49,  60,  64], dtype=uint8), array([20, 13, 12, ..., 17, 16, 12], dtype=uint8), array([122, 133, 150, ...,  15,  13,  12], dtype=uint8), array([ 36,  51,  83, ..., 152, 168, 174], dtype=uint8), array([223, 207, 235, ..., 118, 137, 140], dtype=uint8), array([ 94, 109, 122, ...,  28,  33,  40], dtype=uint8), array([ 32,  33,  83, ..., 137, 158, 175], dtype=uint8), array([62, 68, 87, ..., 70, 55, 75], dtype=uint8), array([ 55,  86, 140, ...,  78,  74,  76], dtype=uint8), array([ 84, 138, 142, ..., 114,  92, 176], dtype=uint8), array([47, 71, 93, ..., 98, 61, 38], dtype=uint8), array([157, 174, 186, ...,  92,  92,  61], dtype=uint8), array([33, 30, 25, ..., 90, 86, 72], dtype=uint8), array([75, 72, 62, ...,  6,  5,  5], dtype=uint8), array([51, 52, 44, ..., 34, 32, 14], dtype=uint8), array([146, 158, 167, ...,  75,  94, 105], dtype=uint8), array([ 32,  51,  78, ..., 137, 156, 191], dtype=uint8), array([ 93, 112, 147, ..., 142, 147, 140], dtype=uint8), array([39, 58, 71, ..., 65, 56, 86], dtype=uint8), array([38, 50, 82, ..., 22, 34, 74], dtype=uint8), array([21, 21, 28, ..., 52, 57, 65], dtype=uint8), array([61, 60, 86, ..., 30, 29, 25], dtype=uint8), array([165, 182, 197, ...,  48,  50,  54], dtype=uint8), array([ 72,  76, 105, ...,  58,  74,  73], dtype=uint8), array([153, 160, 163, ...,  25,  33,  59], dtype=uint8), array([ 8,  5,  6, ..., 21, 13, 10], dtype=uint8), array([ 77,  97, 106, ...,  19,  17,  16], dtype=uint8), array([43, 58, 77, ..., 85, 94, 90], dtype=uint8), array([ 72,  96, 114, ..., 238, 224, 205], dtype=uint8), array([ 28,  34,  46, ...,  96, 102,  90], dtype=uint8), array([ 81,  90, 105, ..., 143, 120, 197], dtype=uint8), array([ 56,  69,  87, ..., 207, 213, 202], dtype=uint8), array([128, 148, 190, ..., 119, 165, 213], dtype=uint8), array([106, 103,  93, ..., 160, 153, 124], dtype=uint8), array([ 12,   6,   7, ...,  68, 116, 102], dtype=uint8), array([165, 183, 194, ...,  20,  22,  34], dtype=uint8), array([155, 160, 166, ..., 106, 100, 111], dtype=uint8), array([ 58,  63,  86, ..., 150, 148, 137], dtype=uint8), array([152, 155, 148, ...,  27,  26,  22], dtype=uint8), array([125, 108, 135, ...,  31,  28,  23], dtype=uint8), array([122, 129, 146, ...,  19,  17,  16], dtype=uint8), array([49, 64, 74, ..., 53, 23,  8], dtype=uint8), array([ 85,  95, 109, ...,  24,  14,  11], dtype=uint8), array([ 73,  79,  73, ..., 126,  94,  58], dtype=uint8), array([132, 155, 190, ..., 187, 195, 178], dtype=uint8), array([182, 182, 166, ..., 139, 145, 130], dtype=uint8), array([ 40,  62,  87, ...,  52,  46, 169], dtype=uint8), array([ 75,  92, 116, ...,  51,  60,  78], dtype=uint8), array([ 63,  81,  99, ...,  76, 100, 122], dtype=uint8), array([ 21,  25,  35, ..., 121, 120, 106], dtype=uint8), array([ 65,  80, 111, ..., 190, 200, 207], dtype=uint8), array([ 71,  88, 106, ...,  24,  16,  13], dtype=uint8), array([ 36,  41,  40, ..., 173, 170, 154], dtype=uint8), array([ 37,  39,  60, ...,  78,  58, 103], dtype=uint8), array([119, 136, 162, ..., 135, 131, 116], dtype=uint8), array([205, 205, 205, ..., 160, 160, 160], dtype=uint8), array([220, 222, 210, ...,   2,   2,  84], dtype=uint8), array([136, 120, 104, ..., 165, 156, 160], dtype=uint8), array([46, 35, 30, ..., 35, 31, 25], dtype=uint8), array([ 65,  84, 109, ..., 222, 220, 209], dtype=uint8), array([ 42,  55,  77, ..., 110,  83,  57], dtype=uint8), array([ 64,  77, 102, ..., 182, 194, 199], dtype=uint8), array([ 67,  78,  91, ..., 115, 177, 212], dtype=uint8), array([158, 162, 181, ...,  30,  53,  73], dtype=uint8), array([ 89,  76,  57, ..., 214, 206, 191], dtype=uint8), array([126, 146, 171, ..., 203, 202, 192], dtype=uint8), array([ 93,  86, 115, ...,  57,  66, 103], dtype=uint8), array([ 37,  50,  66, ..., 151, 155, 149], dtype=uint8), array([119, 109, 118, ...,  47,  42,  50], dtype=uint8), array([206, 215, 217, ...,  39,  33,  22], dtype=uint8), array([123, 144, 176, ...,  45,  42,  36], dtype=uint8), array([ 80,  89,  71, ..., 112,  72,  46], dtype=uint8), array([ 21,  28,  71, ..., 132, 143, 157], dtype=uint8), array([ 69, 125, 126, ...,  95,  75, 150], dtype=uint8), array([39, 54, 84, ..., 17, 15, 14], dtype=uint8), array([ 62,  93, 149, ...,  85,  79,  79], dtype=uint8), array([ 58,  88, 110, ..., 112, 114, 115], dtype=uint8), array([114, 119, 118, ...,  39,  60,  21], dtype=uint8), array([61, 74, 97, ..., 20, 22, 31], dtype=uint8), array([173, 176, 191, ..., 210, 208, 189], dtype=uint8), array([ 58, 101, 150, ...,  67,  91, 120], dtype=uint8), array([127, 111, 139, ...,  33,  30,  26], dtype=uint8), array([136, 160, 189, ...,  17,  11,   5], dtype=uint8), array([ 69,  99, 158, ...,  72,  64,  64], dtype=uint8), array([113, 143, 176, ..., 217, 206, 208], dtype=uint8), array([214, 216, 203, ...,  36,  35, 132], dtype=uint8), array([ 93, 114, 130, ..., 161, 161, 143], dtype=uint8), array([112, 131, 169, ..., 232, 204, 182], dtype=uint8), array([ 38,  54,  86, ..., 180, 193, 195], dtype=uint8), array([ 35,  50,  70, ..., 192, 208, 207], dtype=uint8), array([139, 187, 238, ...,  54,  49,  51], dtype=uint8), array([ 56,  69, 110, ...,  56,  40,  38], dtype=uint8), array([ 57,  61,  71, ...,  69, 111, 134], dtype=uint8), array([127, 162, 206, ...,   1,   2,  21], dtype=uint8), array([42, 58, 74, ..., 84, 64, 46], dtype=uint8), array([ 78,  79,  85, ...,  64, 106, 130], dtype=uint8), array([152, 155, 161, ...,  68,  63,  75], dtype=uint8), array([ 45,  68,  84, ..., 113, 129, 145], dtype=uint8), array([ 6,  1,  2, ..., 12,  6,  7], dtype=uint8), array([49, 62, 86, ..., 14, 12, 17], dtype=uint8), array([32, 30, 30, ..., 37, 39, 17], dtype=uint8), array([ 74,  79, 106, ..., 144, 109, 175], dtype=uint8), array([158, 139, 135, ...,  10,   6,   7], dtype=uint8), array([124, 130, 135, ..., 114,  80,  49], dtype=uint8), array([162, 173, 198, ...,  30,  31,  18], dtype=uint8), array([30, 21, 18, ..., 63, 90, 94], dtype=uint8), array([ 67,  83, 124, ..., 211, 186, 160], dtype=uint8), array([ 65,  94, 149, ...,  23,  41,  78], dtype=uint8), array([176, 188, 202, ...,  45,  38,  29], dtype=uint8), array([153, 156, 180, ...,  49,  91,  84], dtype=uint8), array([ 65,  95, 153, ..., 133, 136, 145], dtype=uint8), array([29, 50, 78, ..., 67, 73, 69], dtype=uint8), array([ 64,  76,  99, ..., 220, 191, 108], dtype=uint8), array([131, 157, 186, ...,  21,  15,   8], dtype=uint8), array([116, 125, 154, ...,  79, 101, 137], dtype=uint8), array([ 26,  47,  76, ..., 141, 137, 136], dtype=uint8), array([190, 197, 217, ..., 176, 181, 206], dtype=uint8), array([ 85,  97, 128, ..., 187, 205, 218], dtype=uint8), array([77, 86, 73, ..., 28, 15,  9], dtype=uint8), array([ 29,  51,  76, ..., 105, 112, 108], dtype=uint8), array([93, 92, 85, ..., 17, 20, 39], dtype=uint8), array([151, 152, 160, ...,  88,  84,  88], dtype=uint8), array([ 70,  72, 103, ...,  92, 119, 139], dtype=uint8), array([52, 44, 31, ..., 39, 42, 39], dtype=uint8), array([ 41,  56,  89, ..., 180, 193, 195], dtype=uint8), array([ 64,  71, 102, ..., 226, 219, 210], dtype=uint8), array([111, 126, 142, ...,  22,  18,  29], dtype=uint8), array([11,  5,  7, ..., 25, 20, 17], dtype=uint8), array([ 56,  74,  97, ..., 102,  90, 166], dtype=uint8), array([218, 220, 208, ...,  16,  13, 120], dtype=uint8), array([ 64,  80, 107, ..., 147, 127,  97], dtype=uint8), array([56, 72, 94, ..., 20, 28, 35], dtype=uint8), array([ 12,   6,   7, ...,  55, 120,  91], dtype=uint8), array([176, 175, 164, ..., 191, 186, 171], dtype=uint8), array([10,  6, 11, ..., 15,  8, 11], dtype=uint8), array([107, 117, 137, ...,  19,  18,  15], dtype=uint8), array([38, 45, 62, ..., 69, 64, 95], dtype=uint8), array([ 76,  91, 124, ...,  31,  24,  15], dtype=uint8), array([183, 185, 179, ..., 154, 158, 153], dtype=uint8), array([130, 138, 169, ...,  85, 103, 138], dtype=uint8), array([ 89,  98, 139, ...,  93, 112, 146], dtype=uint8), array([108, 125, 147, ...,  11,  14,  19], dtype=uint8), array([108, 125, 146, ...,   5,   7,   9], dtype=uint8), array([ 46,  70,  94, ..., 181, 199, 210], dtype=uint8), array([ 82, 101, 116, ...,  66,  75,  54], dtype=uint8), array([33, 42, 64, ...,  0,  0,  0], dtype=uint8), array([26, 23, 22, ..., 26, 24, 22], dtype=uint8), array([ 62,  67, 100, ..., 223, 218, 217], dtype=uint8), array([ 33,  29, 132, ..., 160, 121, 176], dtype=uint8), array([156, 149, 134, ...,  87,  92,  99], dtype=uint8), array([43, 54, 77, ..., 36, 38, 72], dtype=uint8), array([ 69,  75, 109, ..., 233, 223, 216], dtype=uint8), array([162, 156, 171, ...,  49,  25,   9], dtype=uint8), array([38, 40, 48, ..., 30, 34, 39], dtype=uint8), array([ 55,  79, 101, ...,  30,  44,  39], dtype=uint8), array([ 54,  63,  60, ..., 124,  92,  56], dtype=uint8), array([ 91, 102, 130, ...,  88,  90,  81], dtype=uint8), array([184, 182, 181, ...,  29,  38,  60], dtype=uint8), array([127, 146, 162, ...,  17,  21,  20], dtype=uint8), array([122,  85,  90, ...,  70,  87,  98], dtype=uint8), array([ 81,  91, 109, ...,  60,  85, 104], dtype=uint8), array([119, 114, 135, ...,  54,  27,  12], dtype=uint8), array([149, 147, 153, ...,  78,  79,  91], dtype=uint8), array([ 72,  98, 118, ..., 239, 225, 207], dtype=uint8), array([ 14,   7,   8, ...,  83, 114, 105], dtype=uint8), array([114, 132, 141, ...,  83, 139, 140], dtype=uint8), array([201, 212, 215, ...,  33,  32,  36], dtype=uint8), array([146, 172, 218, ...,  79,  80,  84], dtype=uint8), array([148, 162, 188, ..., 128, 146, 135], dtype=uint8), array([59, 82, 95, ..., 62, 48, 79], dtype=uint8), array([ 84,  88, 114, ..., 183, 197, 203], dtype=uint8), array([66, 76, 60, ..., 75, 82, 61], dtype=uint8), array([154, 158, 174, ...,  48,  42,  40], dtype=uint8), array([160, 177, 190, ...,  32,  31,  52], dtype=uint8), array([115, 117, 105, ..., 110, 107,  98], dtype=uint8), array([ 51,  59,  82, ..., 134, 131, 117], dtype=uint8), array([110, 158, 222, ...,  39,  36,  32], dtype=uint8), array([ 88,  94, 136, ..., 227, 222, 223], dtype=uint8), array([ 92, 103, 140, ...,  43,  32,  33], dtype=uint8), array([176, 166, 149, ..., 122, 126, 121], dtype=uint8), array([ 52,  56,  85, ..., 235, 206, 189], dtype=uint8), array([ 45,  74,  97, ..., 174, 199, 211], dtype=uint8), array([49, 64, 82, ..., 11,  8, 11], dtype=uint8), array([ 22,  12,  12, ...,  56, 122,  96], dtype=uint8), array([216, 219, 226, ...,   5,   4,   4], dtype=uint8), array([104, 113, 127, ...,  82,  75, 108], dtype=uint8), array([ 95, 106, 133, ...,  51,  52,  50], dtype=uint8), array([54, 64, 93, ..., 29, 34, 49], dtype=uint8), array([69, 73, 61, ..., 80, 86, 65], dtype=uint8), array([35, 42, 55, ..., 62, 69, 84], dtype=uint8), array([ 97, 115, 127, ...,  14,  22,  39], dtype=uint8), array([29, 18, 15, ..., 25, 21, 17], dtype=uint8), array([47, 56, 84, ..., 40, 48, 69], dtype=uint8), array([37, 37, 49, ..., 32, 30, 22], dtype=uint8), array([101, 121, 140, ...,   5,   5,   6], dtype=uint8), array([101,  94,  83, ...,  24,  33,  51], dtype=uint8), array([181, 196, 238, ..., 176, 192, 203], dtype=uint8), array([ 60,  65,  86, ..., 221, 211, 203], dtype=uint8), array([ 90, 105, 128, ...,  92,  98,  87], dtype=uint8), array([ 44,  61, 100, ...,  97, 175, 190], dtype=uint8), array([ 61,  75, 100, ...,  44,  52,  73], dtype=uint8), array([ 60,  61,  62, ..., 120, 121, 102], dtype=uint8), array([ 90,  99, 119, ...,  77, 104, 128], dtype=uint8), array([ 62,  70, 106, ..., 220, 215, 216], dtype=uint8), array([ 71,  96, 112, ...,  70,  72,  72], dtype=uint8), array([ 72,  75, 106, ...,  94, 122, 140], dtype=uint8), array([ 27,  81, 122, ...,  19,  40,  66], dtype=uint8), array([ 56,  66, 101, ...,  52,  37,  36], dtype=uint8), array([227, 215, 185, ...,  19,  12,  25], dtype=uint8), array([71, 88, 95, ..., 66, 72, 81], dtype=uint8), array([129, 122, 121, ..., 220, 193, 166], dtype=uint8), array([ 39,  56,  88, ..., 180, 193, 195], dtype=uint8), array([124, 167, 225, ...,  38,  32,  21], dtype=uint8), array([125, 140, 157, ...,  20,  22,  21], dtype=uint8), array([ 94,  90,  85, ..., 141, 126, 107], dtype=uint8), array([ 87, 114, 140, ...,  77,  53,  29], dtype=uint8), array([ 71,  83, 109, ...,  12,  13,  47], dtype=uint8), array([ 69,  99, 122, ..., 173, 201, 218], dtype=uint8), array([ 79,  85, 127, ..., 215, 210, 211], dtype=uint8), array([ 64,  83, 104, ...,  26,  33,  43], dtype=uint8), array([ 66,  78, 107, ...,  31,  23,  14], dtype=uint8), array([107, 116, 128, ...,  70,  65,  94], dtype=uint8), array([27, 38, 68, ..., 39, 48, 75], dtype=uint8), array([ 78,  83,  74, ..., 124,  91,  57], dtype=uint8), array([125, 132, 158, ...,  57,  40,  29], dtype=uint8), array([93, 62, 69, ..., 55, 66, 75], dtype=uint8), array([ 63,  67,  77, ...,  63, 105, 127], dtype=uint8), array([44, 66, 92, ...,  5,  5,  5], dtype=uint8), array([125, 141, 158, ...,  20,  17,  26], dtype=uint8), array([ 39,  56,  83, ..., 104, 108, 110], dtype=uint8), array([ 78,  84, 127, ..., 221, 216, 217], dtype=uint8), array([76, 75, 69, ..., 18, 21, 40], dtype=uint8), array([ 95,  88, 104, ..., 127, 126, 113], dtype=uint8), array([160, 167, 192, ...,  72, 109, 100], dtype=uint8), array([52, 44, 37, ..., 40, 36, 35], dtype=uint8), array([ 75,  97, 114, ..., 236, 222, 203], dtype=uint8), array([86, 61, 30, ..., 77, 55, 27], dtype=uint8), array([17, 27, 35, ..., 15, 15, 16], dtype=uint8), array([123, 141, 154, ..., 246, 232, 213], dtype=uint8), array([104, 110, 134, ...,  70,  51,  38], dtype=uint8), array([ 44,  67,  93, ..., 180, 200, 211], dtype=uint8), array([ 90,  89,  91, ..., 220, 194, 110], dtype=uint8), array([122, 120,  96, ...,  21,  15,   9], dtype=uint8), array([ 96,  92,  87, ..., 221, 202, 181], dtype=uint8), array([79, 86, 95, ..., 59, 59, 58], dtype=uint8), array([ 95, 101, 122, ...,  65,  91, 105], dtype=uint8), array([ 49,  64,  83, ..., 119,  98, 172], dtype=uint8), array([ 57,  62,  83, ..., 118, 131, 135], dtype=uint8), array([42, 62, 89, ..., 10,  6, 11], dtype=uint8), array([14, 47, 86, ...,  8, 30, 62], dtype=uint8), array([11,  7,  7, ..., 10,  6,  5], dtype=uint8), array([57, 74, 88, ..., 46, 57, 63], dtype=uint8), array([ 53,  56,  65, ...,  57, 101, 126], dtype=uint8), array([ 37,  50,  88, ..., 119, 142, 164], dtype=uint8), array([159, 162, 146, ...,  83,  91,  81], dtype=uint8), array([160, 173, 188, ...,   6,   6,  20], dtype=uint8), array([ 89,  91,  96, ..., 115, 103,  84], dtype=uint8), array([166, 181, 190, ...,  18,  15,  27], dtype=uint8), array([120, 155, 173, ..., 110, 105, 106], dtype=uint8), array([ 73, 101, 155, ...,  21,  39,  80], dtype=uint8), array([144, 160, 172, ...,  25,  23,  29], dtype=uint8), array([ 61,  74, 100, ..., 113, 115, 104], dtype=uint8), array([ 35,  53,  90, ...,  54, 147, 163], dtype=uint8), array([41, 45, 67, ...,  0,  0,  0], dtype=uint8), array([ 60,  62,  92, ..., 217, 204, 197], dtype=uint8), array([ 53,  82, 113, ...,  39,  43,  39], dtype=uint8), array([187, 187, 181, ..., 184, 190, 185], dtype=uint8), array([165, 167, 155, ..., 184, 184, 174], dtype=uint8), array([ 99, 104, 128, ...,  70,  51,  36], dtype=uint8), array([ 42,  56,  75, ..., 112,  86,  58], dtype=uint8), array([133, 148, 174, ...,  67,  87, 118], dtype=uint8), array([54, 60, 79, ..., 66, 53, 77], dtype=uint8), array([ 95, 110, 156, ..., 197, 185, 173], dtype=uint8), array([ 92, 103, 134, ..., 183, 186, 177], dtype=uint8), array([185, 174, 160, ..., 153, 145, 128], dtype=uint8), array([22, 25, 42, ...,  1,  1,  3], dtype=uint8), array([85, 85, 69, ..., 96, 55, 38], dtype=uint8), array([106, 140, 170, ...,  76,  59,  40], dtype=uint8), array([ 42,  59,  77, ..., 162, 170, 163], dtype=uint8), array([150, 155, 165, ..., 106, 102, 108], dtype=uint8), array([ 93, 107, 119, ..., 166, 164, 146], dtype=uint8), array([93, 75, 64, ..., 14, 14, 13], dtype=uint8), array([ 61,  66,  91, ..., 220, 204, 196], dtype=uint8), array([105, 123, 182, ...,  31,  22,  19], dtype=uint8), array([119, 138, 145, ...,  69, 114, 115], dtype=uint8), array([154, 153, 140, ...,  19,  27,  30], dtype=uint8), array([ 72,  75, 106, ...,  98, 125, 145], dtype=uint8), array([ 18,   8,  10, ...,  84, 143, 116], dtype=uint8), array([219, 209, 185, ...,  13,   9,  24], dtype=uint8), array([ 53,  76, 102, ...,  37,  36,  30], dtype=uint8), array([60, 73, 99, ..., 50, 57, 74], dtype=uint8), array([158, 159, 166, ...,  86,  86, 100], dtype=uint8), array([134, 140, 128, ..., 127, 131, 117], dtype=uint8), array([104, 108, 107, ..., 152, 158, 169], dtype=uint8), array([ 75,  96, 123, ..., 220, 220, 208], dtype=uint8), array([ 66,  78, 120, ...,   0,   0,   0], dtype=uint8), array([ 34,  51,  83, ..., 152, 168, 176], dtype=uint8), array([14, 47, 86, ...,  9, 34, 69], dtype=uint8), array([ 54,  73,  96, ...,  99,  88, 162], dtype=uint8), array([39, 50, 78, ..., 49, 61, 81], dtype=uint8), array([ 82, 102, 133, ..., 155, 118,  61], dtype=uint8), array([10,  6, 11, ..., 84, 94, 97], dtype=uint8), array([116, 140, 170, ...,  74,  61,  39], dtype=uint8), array([22, 55, 66, ..., 51, 82, 89], dtype=uint8), array([ 32,  52,  84, ..., 131, 140, 142], dtype=uint8), array([32, 52, 79, ..., 11,  8, 10], dtype=uint8), array([213, 213, 208, ...,  42,  34,  21], dtype=uint8), array([ 9,  4,  5, ..., 28, 28, 22], dtype=uint8), array([ 98, 117, 174, ...,  34,  24,  19], dtype=uint8), array([123, 123,  98, ...,  25,  14,   8], dtype=uint8), array([16,  8,  8, ..., 21, 18, 16], dtype=uint8), array([ 88,  95, 138, ..., 228, 223, 224], dtype=uint8), array([ 24,  12,  12, ...,  42, 104,  78], dtype=uint8), array([ 52,  79, 105, ..., 178, 204, 218], dtype=uint8), array([140, 156, 179, ...,  69,  89, 121], dtype=uint8), array([ 92,  88,  87, ..., 230, 206, 183], dtype=uint8), array([122, 141, 155, ...,  15,  16,  16], dtype=uint8), array([ 79, 101, 126, ...,  52,  67,  59], dtype=uint8), array([ 32,  49,  90, ...,  69, 106, 158], dtype=uint8), array([159, 185, 231, ...,  83,  88,  94], dtype=uint8), array([ 91,  99, 125, ...,  69,  52,  40], dtype=uint8), array([ 23,  14,  24, ..., 134, 151, 154], dtype=uint8), array([ 92, 112, 120, ...,   8,   8,   8], dtype=uint8), array([ 70,  80,  98, ..., 126, 101, 176], dtype=uint8), array([110, 127, 156, ..., 171, 134,  75], dtype=uint8), array([20, 22, 27, ..., 53, 60, 69], dtype=uint8), array([155, 168, 160, ..., 171, 180, 175], dtype=uint8), array([ 68,  69,  79, ...,  61, 106, 130], dtype=uint8), array([136, 150, 176, ...,  68,  88, 119], dtype=uint8), array([ 60,  80, 101, ...,  20,  24,  34], dtype=uint8), array([ 31,  49,  82, ..., 176, 192, 195], dtype=uint8), array([157, 172, 182, ...,  12,   9,  18], dtype=uint8), array([ 48,  72,  90, ..., 140, 160, 177], dtype=uint8), array([170, 191, 232, ...,  15,  10,  11], dtype=uint8), array([16, 16, 16, ..., 56, 65, 79], dtype=uint8), array([12,  8,  7, ..., 56, 40, 27], dtype=uint8), array([ 83,  88,  88, ..., 120,  88,  57], dtype=uint8), array([ 67,  79,  98, ..., 142, 122, 195], dtype=uint8), array([ 40,  53,  91, ..., 108, 129, 155], dtype=uint8), array([61, 72, 86, ..., 29, 16,  9], dtype=uint8), array([119, 139, 151, ...,  20,  25,  24], dtype=uint8), array([111, 134, 160, ...,  49,  35,  27], dtype=uint8), array([119, 134, 151, ...,  34,  35,  37], dtype=uint8), array([ 31, 101, 141, ...,  51,  53,  42], dtype=uint8), array([67, 77, 60, ..., 75, 82, 61], dtype=uint8), array([135, 130, 112, ...,  62,  47,  31], dtype=uint8), array([142, 158, 170, ...,  22,  18,  29], dtype=uint8), array([66, 72, 61, ..., 79, 85, 62], dtype=uint8), array([64, 75, 96, ..., 23, 22, 18], dtype=uint8), array([ 75,  90, 110, ...,  67,  67,  57], dtype=uint8), array([ 45,  56,  73, ..., 178, 177, 164], dtype=uint8), array([137, 155, 183, ...,  83,  92,  84], dtype=uint8), array([164, 163, 153, ...,  20,  15, 119], dtype=uint8), array([160, 167, 186, ...,  56,  60,  55], dtype=uint8), array([ 50,  55,  64, ...,  55, 101, 125], dtype=uint8), array([130, 137, 162, ...,  69,  48,  35], dtype=uint8), array([191, 198, 202, ...,  18,  20,  28], dtype=uint8), array([ 88, 111, 143, ..., 244, 241, 243], dtype=uint8), array([ 15,   7,   8, ...,  93,  95, 107], dtype=uint8), array([ 41,  55,  77, ..., 184, 198, 197], dtype=uint8), array([ 72,  89, 110, ...,  25,  27,  37], dtype=uint8), array([42, 53, 80, ..., 47, 56, 77], dtype=uint8), array([21, 20, 30, ..., 58, 41, 96], dtype=uint8), array([87, 66, 41, ..., 79, 60, 33], dtype=uint8), array([49, 66, 78, ..., 46, 57, 65], dtype=uint8), array([122, 136, 154, ...,  15,  18,  16], dtype=uint8), array([ 85, 115, 150, ...,  81,  58,  33], dtype=uint8), array([64, 51, 45, ..., 67, 60, 46], dtype=uint8), array([141, 180, 243, ...,  46,  42,  41], dtype=uint8), array([40, 46, 57, ..., 64, 72, 85], dtype=uint8))"
     ]
    }
   ],
   "source": [
    "image_shape = (150,150,3)\n",
    "model = Sequential()\n",
    "\n",
    "model.add(Conv2D(filters=32, kernel_size=(4,4),input_shape=(150,150,3), activation='relu',))\n",
    "model.add(MaxPooling2D(pool_size=(2, 2)))\n",
    "\n",
    "model.add(Conv2D(filters=64, kernel_size=(4,4),input_shape=(150,150,3), activation='relu',))\n",
    "model.add(MaxPooling2D(pool_size=(2, 2)))\n",
    "\n",
    "model.add(Conv2D(filters=128, kernel_size=(4,4),input_shape=(150,150,3), activation='relu',))\n",
    "model.add(MaxPooling2D(pool_size=(2, 2)))\n",
    "\n",
    "\n",
    "model.add(Flatten())\n",
    "\n",
    "\n",
    "model.add(Dense(256))\n",
    "model.add(Activation('relu'))\n",
    "\n",
    "model.add(Dropout(0.3))\n",
    "\n",
    "# Last layer\n",
    "model.add(Dense(1))\n",
    "model.add(Activation('softmax'))\n",
    "\n",
    "model.compile(loss='binary_crossentropy',\n",
    "             optimizer='adam',\n",
    "              metrics=['accuracy'])\n",
    "model.summary()\n",
    "\n",
    "\n",
    "\n",
    "\n",
    "\n",
    "results = model.fit_generator(X_train,epochs=10,\n",
    "                              steps_per_epoch=1,\n",
    "                              validation_data=X_test,\n",
    "                             validation_steps=1)"
   ]
  },
  {
   "cell_type": "code",
   "execution_count": 8,
   "id": "d1b40816",
   "metadata": {},
   "outputs": [
    {
     "ename": "ValueError",
     "evalue": "Input 0 of layer \"conv2d_5\" is incompatible with the layer: expected min_ndim=4, found ndim=2. Full shape received: (None, 5408)",
     "output_type": "error",
     "traceback": [
      "\u001b[1;31m---------------------------------------------------------------------------\u001b[0m",
      "\u001b[1;31mValueError\u001b[0m                                Traceback (most recent call last)",
      "\u001b[1;32m<ipython-input-8-97895396fef4>\u001b[0m in \u001b[0;36m<module>\u001b[1;34m\u001b[0m\n\u001b[0;32m      4\u001b[0m \u001b[0mmodel\u001b[0m\u001b[1;33m.\u001b[0m\u001b[0madd\u001b[0m\u001b[1;33m(\u001b[0m\u001b[0mFlatten\u001b[0m\u001b[1;33m(\u001b[0m\u001b[1;33m)\u001b[0m\u001b[1;33m)\u001b[0m\u001b[1;33m\u001b[0m\u001b[1;33m\u001b[0m\u001b[0m\n\u001b[0;32m      5\u001b[0m \u001b[1;33m\u001b[0m\u001b[0m\n\u001b[1;32m----> 6\u001b[1;33m \u001b[0mmodel\u001b[0m\u001b[1;33m.\u001b[0m\u001b[0madd\u001b[0m\u001b[1;33m(\u001b[0m\u001b[0mConv2D\u001b[0m\u001b[1;33m(\u001b[0m\u001b[1;36m64\u001b[0m\u001b[1;33m,\u001b[0m\u001b[1;33m(\u001b[0m\u001b[1;36m3\u001b[0m\u001b[1;33m,\u001b[0m\u001b[1;36m3\u001b[0m\u001b[1;33m)\u001b[0m\u001b[1;33m,\u001b[0m\u001b[0mactivation\u001b[0m\u001b[1;33m=\u001b[0m\u001b[1;34m'relu'\u001b[0m\u001b[1;33m)\u001b[0m\u001b[1;33m)\u001b[0m\u001b[1;33m\u001b[0m\u001b[1;33m\u001b[0m\u001b[0m\n\u001b[0m\u001b[0;32m      7\u001b[0m \u001b[0mmodel\u001b[0m\u001b[1;33m.\u001b[0m\u001b[0madd\u001b[0m\u001b[1;33m(\u001b[0m\u001b[0mMaxPool2D\u001b[0m\u001b[1;33m(\u001b[0m\u001b[1;36m2\u001b[0m\u001b[1;33m,\u001b[0m\u001b[1;36m2\u001b[0m\u001b[1;33m)\u001b[0m\u001b[1;33m)\u001b[0m\u001b[1;33m\u001b[0m\u001b[1;33m\u001b[0m\u001b[0m\n\u001b[0;32m      8\u001b[0m \u001b[0mmodel\u001b[0m\u001b[1;33m.\u001b[0m\u001b[0madd\u001b[0m\u001b[1;33m(\u001b[0m\u001b[0mFlatten\u001b[0m\u001b[1;33m(\u001b[0m\u001b[1;33m)\u001b[0m\u001b[1;33m)\u001b[0m\u001b[1;33m\u001b[0m\u001b[1;33m\u001b[0m\u001b[0m\n",
      "\u001b[1;32mC:\\ProgramData\\Anaconda3\\lib\\site-packages\\tensorflow\\python\\training\\tracking\\base.py\u001b[0m in \u001b[0;36m_method_wrapper\u001b[1;34m(self, *args, **kwargs)\u001b[0m\n\u001b[0;32m    627\u001b[0m     \u001b[0mself\u001b[0m\u001b[1;33m.\u001b[0m\u001b[0m_self_setattr_tracking\u001b[0m \u001b[1;33m=\u001b[0m \u001b[1;32mFalse\u001b[0m  \u001b[1;31m# pylint: disable=protected-access\u001b[0m\u001b[1;33m\u001b[0m\u001b[1;33m\u001b[0m\u001b[0m\n\u001b[0;32m    628\u001b[0m     \u001b[1;32mtry\u001b[0m\u001b[1;33m:\u001b[0m\u001b[1;33m\u001b[0m\u001b[1;33m\u001b[0m\u001b[0m\n\u001b[1;32m--> 629\u001b[1;33m       \u001b[0mresult\u001b[0m \u001b[1;33m=\u001b[0m \u001b[0mmethod\u001b[0m\u001b[1;33m(\u001b[0m\u001b[0mself\u001b[0m\u001b[1;33m,\u001b[0m \u001b[1;33m*\u001b[0m\u001b[0margs\u001b[0m\u001b[1;33m,\u001b[0m \u001b[1;33m**\u001b[0m\u001b[0mkwargs\u001b[0m\u001b[1;33m)\u001b[0m\u001b[1;33m\u001b[0m\u001b[1;33m\u001b[0m\u001b[0m\n\u001b[0m\u001b[0;32m    630\u001b[0m     \u001b[1;32mfinally\u001b[0m\u001b[1;33m:\u001b[0m\u001b[1;33m\u001b[0m\u001b[1;33m\u001b[0m\u001b[0m\n\u001b[0;32m    631\u001b[0m       \u001b[0mself\u001b[0m\u001b[1;33m.\u001b[0m\u001b[0m_self_setattr_tracking\u001b[0m \u001b[1;33m=\u001b[0m \u001b[0mprevious_value\u001b[0m  \u001b[1;31m# pylint: disable=protected-access\u001b[0m\u001b[1;33m\u001b[0m\u001b[1;33m\u001b[0m\u001b[0m\n",
      "\u001b[1;32mC:\\ProgramData\\Anaconda3\\lib\\site-packages\\keras\\utils\\traceback_utils.py\u001b[0m in \u001b[0;36merror_handler\u001b[1;34m(*args, **kwargs)\u001b[0m\n\u001b[0;32m     65\u001b[0m     \u001b[1;32mexcept\u001b[0m \u001b[0mException\u001b[0m \u001b[1;32mas\u001b[0m \u001b[0me\u001b[0m\u001b[1;33m:\u001b[0m  \u001b[1;31m# pylint: disable=broad-except\u001b[0m\u001b[1;33m\u001b[0m\u001b[1;33m\u001b[0m\u001b[0m\n\u001b[0;32m     66\u001b[0m       \u001b[0mfiltered_tb\u001b[0m \u001b[1;33m=\u001b[0m \u001b[0m_process_traceback_frames\u001b[0m\u001b[1;33m(\u001b[0m\u001b[0me\u001b[0m\u001b[1;33m.\u001b[0m\u001b[0m__traceback__\u001b[0m\u001b[1;33m)\u001b[0m\u001b[1;33m\u001b[0m\u001b[1;33m\u001b[0m\u001b[0m\n\u001b[1;32m---> 67\u001b[1;33m       \u001b[1;32mraise\u001b[0m \u001b[0me\u001b[0m\u001b[1;33m.\u001b[0m\u001b[0mwith_traceback\u001b[0m\u001b[1;33m(\u001b[0m\u001b[0mfiltered_tb\u001b[0m\u001b[1;33m)\u001b[0m \u001b[1;32mfrom\u001b[0m \u001b[1;32mNone\u001b[0m\u001b[1;33m\u001b[0m\u001b[1;33m\u001b[0m\u001b[0m\n\u001b[0m\u001b[0;32m     68\u001b[0m     \u001b[1;32mfinally\u001b[0m\u001b[1;33m:\u001b[0m\u001b[1;33m\u001b[0m\u001b[1;33m\u001b[0m\u001b[0m\n\u001b[0;32m     69\u001b[0m       \u001b[1;32mdel\u001b[0m \u001b[0mfiltered_tb\u001b[0m\u001b[1;33m\u001b[0m\u001b[1;33m\u001b[0m\u001b[0m\n",
      "\u001b[1;32mC:\\ProgramData\\Anaconda3\\lib\\site-packages\\keras\\engine\\input_spec.py\u001b[0m in \u001b[0;36massert_input_compatibility\u001b[1;34m(input_spec, inputs, layer_name)\u001b[0m\n\u001b[0;32m    226\u001b[0m       \u001b[0mndim\u001b[0m \u001b[1;33m=\u001b[0m \u001b[0mx\u001b[0m\u001b[1;33m.\u001b[0m\u001b[0mshape\u001b[0m\u001b[1;33m.\u001b[0m\u001b[0mrank\u001b[0m\u001b[1;33m\u001b[0m\u001b[1;33m\u001b[0m\u001b[0m\n\u001b[0;32m    227\u001b[0m       \u001b[1;32mif\u001b[0m \u001b[0mndim\u001b[0m \u001b[1;32mis\u001b[0m \u001b[1;32mnot\u001b[0m \u001b[1;32mNone\u001b[0m \u001b[1;32mand\u001b[0m \u001b[0mndim\u001b[0m \u001b[1;33m<\u001b[0m \u001b[0mspec\u001b[0m\u001b[1;33m.\u001b[0m\u001b[0mmin_ndim\u001b[0m\u001b[1;33m:\u001b[0m\u001b[1;33m\u001b[0m\u001b[1;33m\u001b[0m\u001b[0m\n\u001b[1;32m--> 228\u001b[1;33m         raise ValueError(f'Input {input_index} of layer \"{layer_name}\" '\n\u001b[0m\u001b[0;32m    229\u001b[0m                          \u001b[1;34m'is incompatible with the layer: '\u001b[0m\u001b[1;33m\u001b[0m\u001b[1;33m\u001b[0m\u001b[0m\n\u001b[0;32m    230\u001b[0m                          \u001b[1;34mf'expected min_ndim={spec.min_ndim}, '\u001b[0m\u001b[1;33m\u001b[0m\u001b[1;33m\u001b[0m\u001b[0m\n",
      "\u001b[1;31mValueError\u001b[0m: Input 0 of layer \"conv2d_5\" is incompatible with the layer: expected min_ndim=4, found ndim=2. Full shape received: (None, 5408)"
     ]
    }
   ],
   "source": [
    "model=Sequential()\n",
    "model.add(Conv2D(32,(3,3),activation='relu',input_shape=(28,28,1)))\n",
    "model.add(MaxPool2D(2,2))\n",
    "model.add(Flatten())\n",
    "\n",
    "model.add(Conv2D(64,(3,3),activation='relu'))\n",
    "model.add(MaxPool2D(2,2))\n",
    "model.add(Flatten())\n",
    "\n",
    "model.add(Conv2D(128,(3,3),activation='relu'))\n",
    "model.add(MaxPool2D(2,2))\n",
    "model.add(Flatten())\n",
    "\n",
    "model.add(Dense(256,activation='relu'))\n",
    "model.add(Dense(1,activation='softmax'))\n",
    "model.compile(loss='sparse_categorical_crossentropy',optimizer='adam',metrics=['accuracy'])\n",
    "\n",
    "his = model.fit(X_train,y_train,epochs=10)\n",
    "\n",
    "model.evaluate(X_test, Y_test, verbose=2)\n",
    "\n",
    "yhat_classes = model.predict(X_test)\n",
    "\n",
    "with open('NN_model.pickle', 'wb') as f:\n",
    "    pickle.dump(model, f)\n",
    "\n",
    "'''plotting accuracy vs epoch graph'''\n",
    "ax = plt.gca()\n",
    "ax.xaxis.set_tick_params(labelsize=15)\n",
    "ax.yaxis.set_tick_params(labelsize=15)\n",
    "\n",
    "plt.plot(his.history['accuracy'])\n",
    "plt.title('MODEL ACCURACY', weight='bold')\n",
    "plt.ylabel('Accuracy', weight='bold')\n",
    "plt.xlabel('Epoch', weight='bold')\n",
    "plt.savefig(\"Accuracy-Epoch.jpg\")\n",
    "plt.show()\n",
    "\n",
    "'''plotting loss vs epoch graph'''\n",
    "ax = plt.gca()\n",
    "ax.xaxis.set_tick_params(labelsize=15)\n",
    "ax.yaxis.set_tick_params(labelsize=15)\n",
    "\n",
    "plt.plot(his.history['loss'])\n",
    "plt.title('MODEL LOSS', weight='bold')\n",
    "plt.ylabel('Loss', weight='bold')\n",
    "plt.xlabel('Epoch', weight='bold')\n",
    "plt.savefig(\"Loss-Epoch.jpg\")\n",
    "plt.show()\n"
   ]
  },
  {
   "cell_type": "code",
   "execution_count": null,
   "id": "e97c360d",
   "metadata": {},
   "outputs": [],
   "source": []
  }
 ],
 "metadata": {
  "kernelspec": {
   "display_name": "Python 3",
   "language": "python",
   "name": "python3"
  },
  "language_info": {
   "codemirror_mode": {
    "name": "ipython",
    "version": 3
   },
   "file_extension": ".py",
   "mimetype": "text/x-python",
   "name": "python",
   "nbconvert_exporter": "python",
   "pygments_lexer": "ipython3",
   "version": "3.8.8"
  }
 },
 "nbformat": 4,
 "nbformat_minor": 5
}
